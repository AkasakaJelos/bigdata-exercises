{
 "cells": [
  {
   "cell_type": "markdown",
   "metadata": {
    "id": "buDUMbpKYTcD"
   },
   "source": [
    "# <center>Big Data &ndash; Exercises</center>\n",
    "## <center>Fall 2023 &ndash; Week 2 &ndash; ETH Zurich</center>"
   ]
  },
  {
   "cell_type": "markdown",
   "metadata": {
    "id": "PO44IswhYTcE"
   },
   "source": [
    "## Exercise 1: Storage devices (Optional)\n",
    "\n",
    "In this exercise, we want to understand the differences between [SSD](https://en.wikipedia.org/wiki/Solid-state_drive), [HDD](https://en.wikipedia.org/wiki/Hard_disk_drive), and [SDRAM](https://en.wikipedia.org/wiki/Synchronous_dynamic_random-access_memory) in terms of __capacity__, __speed__ and __price__. \n",
    "\n",
    "### Task 1\n",
    "Fill in the table below by visiting your local online hardware store and choosing the storage device with largest capacity available but optimizing for read/write speed.\n",
    "For instance, you can visit Digitec.ch to explore the prices on [SSDs](https://www.digitec.ch/en/s1/producttype/ssd-545?tagIds=76), [HDDs](https://www.digitec.ch/en/s1/producttype/hard-drives-36?tagIds=76), and \n",
    "[SDRAMs](https://www.digitec.ch/en/s1/producttype/memory-2?tagIds=76). \n",
    "You are free to use any other website for filling the table. \n",
    "\n",
    "\n",
    "| Storage Device | Maximum capacity, GB | Price, CHF/GB  | Read speed, GB/s | Write speed, GB/s | Link |\n",
    "| --------------:| --------------------:| --------------:|-----------------:|------------------:|------|\n",
    "| HDD            |                      |                |                  |                   |&nbsp;|\n",
    "| SSD            |                      |                |                  |                   |&nbsp;|\n",
    "| DRAM           |                      |                |                  |                   |&nbsp;|\n",
    "\n",
    "\n",
    "### Task 2\n",
    "Answer the following questions:\n",
    "1. What type of storage devices above is the cheapest one?\n",
    "2. What type of storage devices above is the fastest in terms of read speed?"
   ]
  },
  {
   "cell_type": "markdown",
   "metadata": {
    "id": "NJNn-SViYTcy"
   },
   "source": [
    "# Exercise 2. KeyValue Vector Clocks\n",
    "\n",
    "As pointed out in the lecture, the concepts are clearly explained in the Dynamo paper by the DeCandia, G., et. al. (2007). \"Dynamo: Amazon’s Highly Available Key-value Store\". In SOSP ’07 (Vol. 41, p. 205). [DOI](https://dl.acm.org/citation.cfm?doid=1294261.1294281)"
   ]
  },
  {
   "cell_type": "markdown",
   "metadata": {
    "id": "YcHVf7fIYTcy"
   },
   "source": [
    "## Task 1\n",
    "Multiple distributed hash tables use vector clocks for capturing causality among different versions of the same object. In Amazon's Dynamo, a vector clock is associated with every version of every object.\n",
    "\n",
    "Let $VC$ be an $N$-element array which contains non-negative integers, initialized to 0, representing $N$ logical clocks of the $N$ processes (nodes) of the system. $VC$ gets its $j$ element incremented by one everytime node $j$ performs a write operation on it. <br>\n",
    "Moreover, $VC(x)$ denotes the vector clock of a write event, and $VC(x)_z$ denotes the element of that clock for the node $z$.\n",
    "\n",
    "Try to __formally define__ the partial ordering that we get from using vector clocks."
   ]
  },
  {
   "cell_type": "markdown",
   "metadata": {
    "id": "z4lpxnbaYTcz"
   },
   "source": [
    "## Task 2\n",
    "\n",
    "Vector clock antisymmetry property is defined as follows:\n",
    "\n",
    "If $ VC(x) \\lt VC(y)$, then $ ¬ \\ (VC(y) \\lt VC(x)) $\n",
    "\n",
    "Prove this property."
   ]
  },
  {
   "cell_type": "markdown",
   "metadata": {
    "id": "W6aDCNvtYTc0"
   },
   "source": [
    "## Task 3\n",
    "\n",
    "Consider $j$ servers in a cluster where $S_j$ denotes the $j$th node.  \n",
    "In this exercise, we adopt a slightly modified notation from the Dynamo paper:  \n",
    "- The Dynamo paper indicates the writing server on the edge, we however write it before the colon.  \n",
    "- For brevity, we index server by position and omit server name in the vector clock.\n",
    "\n",
    "For example **aa ([$S_0$,0],[$S_1$,4])** with $S_1$ as writing server become **$S_1$ : aa ([0,4])**\n",
    "So, given the following version evolution DAG for a particular object, complete the vector clocks computed at the corresponding version.\n",
    "\n",
    "<img src=\"https://polybox.ethz.ch/index.php/s/iRONxqhpQkRdLeY/download\" width=400/>\n",
    "\n",
    "<img src=\"https://polybox.ethz.ch/index.php/s/WzJlMxIrA2RGcKh/download\" width=400/>\n",
    "\n",
    "<img src=\"https://polybox.ethz.ch/index.php/s/nZ83Jb7mrr0uhi8/download\" width=400/>"
   ]
  },
  {
   "cell_type": "markdown",
   "metadata": {
    "id": "ggoaIglcYTc1"
   },
   "source": [
    "## Task 4\n",
    "\n",
    "When a get request comes in to Amazon Dynamo with some key, then:\n",
    "  - The coordinator node (selected from the preference list as the top node for this key) is taking care of this request\n",
    "  - The coordinator node requests from other nodes (itself + the next N-1 healthy ones on the preference list), and receives, a set of versions for the value associated with the key, that are modelled as __value (vector clock)__ pairs such as a ([1, 3, 2])"
   ]
  },
  {
   "cell_type": "markdown",
   "metadata": {
    "id": "cA4DaMfGYTc1"
   },
   "source": [
    "### Task 4.1\n",
    "Given the following list of versions, draw the version DAG that the coordinator node will build for returning available versions.\n",
    "\n",
    "1 ([0,0,1])  \n",
    "1 ([0,1,1])  \n",
    "2 ([1,1,1])  \n",
    "3 ([0,2,1])  \n",
    "10 ([1,3,1])"
   ]
  },
  {
   "cell_type": "markdown",
   "metadata": {
    "id": "n1qfPU1BYTc3"
   },
   "source": [
    "### Task 4.2\n",
    "Given the following list of versions, draw the version DAG that the coordinator node will build for returning the correct version.\n",
    "\n",
    "\n",
    " a ([1,0,0])  \n",
    " b ([0,1,0])  \n",
    " c ([2,1,0])   \n",
    " d ([2,1,1])   \n",
    " e ([3,1,1])  \n",
    " f ([2,2,1])   \n",
    " g ([3,1,2])   \n",
    " h ([3,2,3])  \n",
    " i ([4,2,2])   \n",
    " j ([5,2,2])  \n",
    " k ([4,3,3])  \n",
    " l ([5,2,3])  \n",
    " m ([5,4,3])  \n",
    " n ([6,3,3])  \n",
    " o ([6,4,4])  "
   ]
  },
  {
   "cell_type": "markdown",
   "metadata": {
    "id": "6CglmCvJYTc4"
   },
   "source": [
    "### Task 4.3\n",
    "Given the following list of versions, draw the version DAG that the coordinator node will build for returning the correct version.\n",
    "\n",
    "a ([1,0,0,0])  \n",
    "b ([0,0,0,1])  \n",
    "aa ([0,0,1,0])  \n",
    "bb ([0,1,0,0])  \n",
    "c ([1,2,0,1])  \n",
    "cc ([0,1,1,2])  \n",
    "d ([1,3,0,1])  \n",
    "f ([1,2,1,3])  \n",
    "e ([2,1,1,2])  \n",
    "g ([2,2,2,3])  "
   ]
  },
  {
   "cell_type": "markdown",
   "metadata": {
    "id": "ox_oCR30YTc5"
   },
   "source": [
    "## Task 5 (Optional)\n",
    "\n",
    "Consider $j$ servers in a cluster where $S_j$ denotes the $j$th node. The following table denotes the execution of a series of get/put operations. Also each line of the table represents the events that happen at the time time. For example, at time 0 (`t0`) servers $S_1$ and $S_3$ perform operations. Moreover, when reading and writing an object, we are provided with / must provide a context respecitvely. The context itself is the vector clock, and helps the routines understand what version of the object they are dealing with, and what the new, updated version of the context will be.\n",
    "\n",
    "For the `get` and `put` routines, we have the following signatures:\n",
    "\n",
    "* `get(key)` $\\rightarrow$ `[val_1, val_2, ...]`, $C_{key}$ `(` $VC$ `(key))` \n",
    "  * Example: `get(\"foo\")` $\\rightarrow$ `[bar_1, bar_2]`, $C_{2}$ `([1, 0, 1, 0]) # We assume the existence of 4 nodes` \n",
    "\n",
    "* `put(key, context, val)` $\\rightarrow$ `None`\n",
    "  * Example: `put(\"foo\",` $C_2$`, \"bar\")`  \n",
    "\n",
    "Note that the $C_{key}$ elements are just notation, and are meant to highlight that the context gets passed around between the `get` and `put` routines in a real API. \n",
    "\n",
    "Complete missing `[list_values],` $C_{key}$ `([vector_clock])` tuples for the calls below.\n",
    "\n",
    "<table>\n",
    "  <tr><th></th><th>S0</th><th>S1</th><th>S2</th><th>S3</th><th>S4</th></tr>\n",
    "  <tr>\n",
    "    <td>t0</td>\n",
    "    <td></td>\n",
    "    <td>Get(1)$\\rightarrow$ _______________, $C_{1}$(_______________)<br>Put(1, _____, ”a”)</td>\n",
    "    <td></td>\n",
    "    <td>Get(1)$\\rightarrow$ _______________, $C_{2}$(_______________)<br>Put(1, _____, ”bb”)</td>\n",
    "    <td></td>\n",
    "  </tr>\n",
    "  <tr>\n",
    "    <td>t2</td>\n",
    "    <td>Get(1)$\\rightarrow$ _______________, $C_4$(_______________)<br>Put (1, _____, “rr”)</td>\n",
    "    <td>Get(1)$\\rightarrow$ _______________, $C_5$(_______________)<br>Put (1, _____, ”dd”)\n",
    "    <td></td>\n",
    "    <td></td>\n",
    "    <td></td>\n",
    "    <td></td>\n",
    "  </tr>\n",
    "  <tr>\n",
    "    <td>t4</td>\n",
    "    <td></td>\n",
    "    <td></td>\n",
    "    <td>Get(1)$\\rightarrow$ _______________, $C_9$(_______________) <br>Put(1, _____, ”ccc”)</td>\n",
    "    <td>Get(1)$\\rightarrow$ _______________, $C_{10}$(_______________) <br> Put(1, _____, ”dd”)</td>\n",
    "    <td></td>\n",
    "  </tr>\n",
    "  <tr>\n",
    "    <td>t5</td>\n",
    "    <td></td>\n",
    "    <td></td>\n",
    "    <td></td>\n",
    "    <td></td>\n",
    "    <td>Get(1)$\\rightarrow$ _______________, $C_{11}$(_______________) <br>Put(1, _____, “fff”)</td>\n",
    "  </tr>\n",
    "</table>\n",
    "\n",
    "The DAG below shows the interaction among nodes when retrieving values. You can use it for determining the expected values.\n",
    "\n",
    "<img src=\"https://polybox.ethz.ch/index.php/s/YoWi7QK2DcMHJFe/download\" width=400/>"
   ]
  },
  {
   "cell_type": "markdown",
   "metadata": {
    "id": "fXhEc_lZYTc5"
   },
   "source": [
    "# Exercise 3. Merkle Trees\n",
    "A hash tree or Merkle tree is a binary tree in which every leaf node gets as its label a data block and every non-leaf node is labelled with the cryptographic hash of the labels of its child nodes. \n",
    "\n",
    "Some KeyValue stores use Merkle trees for efficiently detecting inconsistencies in data between replicas. \n",
    "\n",
    "This works by exchaging first the root hash, comparing it with their own. If the hashes match, the replicas are synchronised. If they do not match, then the children of the node (in the Merkle tree) will be retrieved, and their hashes will be compared. This process continues until the inconsistent leave(s) are identified. \n",
    "\n",
    "## Task 1\n",
    "The two pictures below depict two Merkle trees each one belonging to two different replicas. Both should represent the same object.\n",
    "\n",
    "For the two pairs of trees below. Specify if it is a possible configuration as well as which nodes have to be exchanged in order to sync the trees, if applicable.  \n",
    "\n",
    "<img src=\"https://polybox.ethz.ch/index.php/s/vqj7AOAozZKEO3N/download\" width=800/>"
   ]
  },
  {
   "cell_type": "markdown",
   "metadata": {
    "id": "bt7NyfLzF73t"
   },
   "source": []
  },
  {
   "cell_type": "markdown",
   "metadata": {
    "id": "HoLvKmfEdsz3"
   },
   "source": [
    "## Task 2\n",
    "Repeat the exercise for the following pair of Merkle Trees.\n",
    "\n",
    "<img src=\"https://polybox.ethz.ch/index.php/s/TwFd3KDxTrqq2B1/download\" width=800/>"
   ]
  },
  {
   "cell_type": "markdown",
   "metadata": {
    "id": "aZSykiQzYTc6"
   },
   "source": [
    "# Exercise 4. Virtual nodes\n",
    "\n",
    "Virtual nodes were introduced to avoid assigning data in an unbalanced manner and coping with hardware heterogeneity by taking into consideration the physical capacity of each server\n",
    "\n",
    "Let assume we have ten servers ($i_1$ to $i_{10}$) each with the following amount of main memory: `8GiB, 16GiB, 32GiB, 8GiB, 16GiB, 0.5TiB, 1TiB, 0.25TiB, 10GiB, 20GiB`. Calculate the number of virtual nodes/tokens each server should get according to its main memory capacity if we want to have a total of `256` virtual nodes/tokens.\n",
    "\n",
    "Just for the purpose of the exercises if you get a fractional number of virtual nodes, always round up, even if the total sum of nodes in the end exceeds `256`."
   ]
  },
  {
   "cell_type": "markdown",
   "metadata": {},
   "source": [
    "# Exercise 5. Overview of JSONiq\n",
    "\n",
    "We give a gentle introduction to JSONiq and its arithmetic and logical operators. JSONiq is going to accompany you throughout the course as we will introduce more complex operations. To get started, you first need to execute the cell below to activate the RumbleDB magic (you do not need to understand what it does, this is just initialization Python code)."
   ]
  },
  {
   "cell_type": "code",
   "execution_count": null,
   "metadata": {},
   "outputs": [],
   "source": [
    "!pip install rumbledb\n",
    "%load_ext rumbledb\n",
    "%env RUMBLEDB_SERVER=http://localhost:9090/jsoniq"
   ]
  },
  {
   "cell_type": "markdown",
   "metadata": {},
   "source": [
    "\n",
    "Now we are all set! You can now start reading and executing the JSONiq queries as you go, and you can even edit them!"
   ]
  },
  {
   "cell_type": "markdown",
   "metadata": {},
   "source": [
    "## JSON\n",
    "\n",
    "As explained on the [official JSON Web site](http://www.json.org/), JSON is a lightweight data-interchange format designed for humans as well as for computers. It supports as values:\n",
    "- objects (string-to-value maps)\n",
    "- arrays (ordered sequences of values)\n",
    "- strings\n",
    "- numbers\n",
    "- booleans (true, false)\n",
    "- null\n",
    "\n",
    "JSONiq provides declarative querying and updating capabilities on JSON data. You can refer to [the documentation of JSONiq](https://www.jsoniq.org/docs/JSONiq/webhelp/index.html) for more detail.\n",
    "\n",
    "## Elevator Pitch\n",
    "\n",
    "JSONiq is based on XQuery, which is a W3C standard (like XML and HTML). XQuery is a very powerful declarative language that originally manipulates XML data, but it turns out that it is also a very good fit for manipulating JSON natively.\n",
    "JSONiq, since it extends XQuery, is a very powerful general-purpose declarative programming language. Our experience is that, for the same task, you will probably write about 80% less code compared to imperative languages like JavaScript, Python or Ruby. Additionally, you get the benefits of strong type checking without actually having to write type declarations.\n",
    "Here is an appetizer before we start the tutorial from scratch.\n"
   ]
  },
  {
   "cell_type": "code",
   "execution_count": null,
   "metadata": {},
   "outputs": [],
   "source": [
    "%%jsoniq\n",
    "\n",
    "let $stores :=\n",
    "[\n",
    "  { \"store number\" : 1, \"state\" : \"MA\" },\n",
    "  { \"store number\" : 2, \"state\" : \"MA\" },\n",
    "  { \"store number\" : 3, \"state\" : \"CA\" },\n",
    "  { \"store number\" : 4, \"state\" : \"CA\" }\n",
    "]\n",
    "let $sales := [\n",
    "   { \"product\" : \"broiler\", \"store number\" : 1, \"quantity\" : 20  },\n",
    "   { \"product\" : \"toaster\", \"store number\" : 2, \"quantity\" : 100 },\n",
    "   { \"product\" : \"toaster\", \"store number\" : 2, \"quantity\" : 50 },\n",
    "   { \"product\" : \"toaster\", \"store number\" : 3, \"quantity\" : 50 },\n",
    "   { \"product\" : \"blender\", \"store number\" : 3, \"quantity\" : 100 },\n",
    "   { \"product\" : \"blender\", \"store number\" : 3, \"quantity\" : 150 },\n",
    "   { \"product\" : \"socks\", \"store number\" : 1, \"quantity\" : 500 },\n",
    "   { \"product\" : \"socks\", \"store number\" : 2, \"quantity\" : 10 },\n",
    "   { \"product\" : \"shirt\", \"store number\" : 3, \"quantity\" : 10 }\n",
    "]\n",
    "let $join :=\n",
    "  for $store in $stores[], $sale in $sales[]\n",
    "  where $store.\"store number\" = $sale.\"store number\"\n",
    "  return {\n",
    "    \"nb\" : $store.\"store number\",\n",
    "    \"state\" : $store.state,\n",
    "    \"sold\" : $sale.product\n",
    "  }\n",
    "return [$join]\n",
    "\n"
   ]
  },
  {
   "cell_type": "markdown",
   "metadata": {},
   "source": [
    "## All JSON values are JSONiq, too\n",
    "\n",
    "The first thing you need to know is that a well-formed JSON document is a JSONiq expression as well.\n",
    "This means that you can copy-and-paste any JSON document into a query. The following are JSONiq queries that are \"idempotent\" (they just output themselves):"
   ]
  },
  {
   "cell_type": "code",
   "execution_count": null,
   "metadata": {},
   "outputs": [],
   "source": [
    "%%jsoniq\n",
    "{ \"pi\" : 3.14, \"sq2\" : 1.4 }"
   ]
  },
  {
   "cell_type": "code",
   "execution_count": null,
   "metadata": {},
   "outputs": [],
   "source": [
    "%%jsoniq\n",
    "[ 2, 3, 5, 7, 11, 13 ]"
   ]
  },
  {
   "cell_type": "code",
   "execution_count": null,
   "metadata": {},
   "outputs": [],
   "source": [
    "%%jsoniq\n",
    "{\n",
    "      \"operations\" : [\n",
    "        { \"binary\" : [ \"and\", \"or\"] },\n",
    "        { \"unary\" : [\"not\"] }\n",
    "      ],\n",
    "      \"bits\" : [\n",
    "        0, 1\n",
    "      ]\n",
    "    }"
   ]
  },
  {
   "cell_type": "code",
   "execution_count": null,
   "metadata": {},
   "outputs": [],
   "source": [
    "%%jsoniq\n",
    "[ { \"Question\" : \"Ultimate\" }, [\"Life\", \"the universe\", \"and everything\"] ]"
   ]
  },
  {
   "cell_type": "markdown",
   "metadata": {},
   "source": [
    "This works with objects, arrays (even nested), strings, numbers, booleans, null.\n",
    "\n",
    "It also works the other way round: if your query outputs an object, you can use it as a JSON document.\n",
    "JSONiq is a declarative language. This means that you only need to say what you want - the compiler will take care of the how. \n",
    "\n",
    "In the above queries, you are basically saying: I want to output this JSON content, and here it is."
   ]
  },
  {
   "cell_type": "markdown",
   "metadata": {},
   "source": [
    "In fact JSONiq makes JSON \"dynamic\": try to replace numbers with arithmetic formulas, keys with concatenations of strings, etc and see how the resulting JSON object is automatically created."
   ]
  },
  {
   "cell_type": "code",
   "execution_count": null,
   "metadata": {},
   "outputs": [],
   "source": [
    "%%jsoniq\n",
    "{\n",
    "    \"foo\" : 2 + 2,\n",
    "    \"foo\" || \"bar\" : if(2 gt 1) then true else false\n",
    "}"
   ]
  },
  {
   "cell_type": "markdown",
   "metadata": {},
   "source": [
    "# Variables"
   ]
  },
  {
   "cell_type": "markdown",
   "metadata": {},
   "source": [
    "Some queries involve several chained lookups and function calls. It can become complex."
   ]
  },
  {
   "cell_type": "code",
   "execution_count": null,
   "metadata": {},
   "outputs": [],
   "source": [
    "%%jsoniq\n",
    "count(distinct-values(json-file(\"http://www.rumbledb.org/samples/git-archive-small.json\").actor.login))"
   ]
  },
  {
   "cell_type": "markdown",
   "metadata": {},
   "source": [
    "It is then a natural thing to use variables to store intermediate results. This can be achieved with a series of let clauses. The final result is then put in a return clause."
   ]
  },
  {
   "cell_type": "code",
   "execution_count": null,
   "metadata": {},
   "outputs": [],
   "source": [
    "%%jsoniq\n",
    "let $path := \"http://www.rumbledb.org/samples/git-archive-small.json\"\n",
    "let $events := json-file($path)\n",
    "let $actors := $events.actor\n",
    "let $logins := $actors.login\n",
    "let $distinct-logins := distinct-values($logins)\n",
    "return count($distinct-logins)"
   ]
  },
  {
   "cell_type": "markdown",
   "metadata": {},
   "source": [
    "Note that types are not needed, however they exist! It is possible to add a static type to each variable.\n",
    "Since values can be sequences, you can add suffixes for cardinality: `*` for a sequence of arbitrary length, `?` for zero or one item, `+` for one or more items."
   ]
  },
  {
   "cell_type": "code",
   "execution_count": null,
   "metadata": {},
   "outputs": [],
   "source": [
    "%%jsoniq\n",
    "let $path as string := \"http://www.rumbledb.org/samples/git-archive-small.json\"\n",
    "let $events as object* := json-file($path)\n",
    "let $actors as object* := $events.actor\n",
    "let $logins as string* := $actors.login\n",
    "let $distinct-logins as string* := distinct-values($logins)\n",
    "let $count as integer := count($distinct-logins)\n",
    "return $count"
   ]
  },
  {
   "cell_type": "markdown",
   "metadata": {},
   "source": [
    "As you can see, variables can be used to store single items, as well as enormous sequences. RumbleDB will automatically select the best way to evaluate your query.\n",
    "\n",
    "Note that it is possible to reuse variable names. However, these are not assignments: these are bindings. Reusing a variable name hides the previous binding."
   ]
  },
  {
   "cell_type": "code",
   "execution_count": null,
   "metadata": {},
   "outputs": [],
   "source": [
    "%%jsoniq\n",
    "let $v as string := \"http://www.rumbledb.org/samples/git-archive-small.json\"\n",
    "let $v as object* := json-file($v)\n",
    "let $v as object* := $v.actor\n",
    "let $v as string* := $v.login\n",
    "let $v as string* := distinct-values($v)\n",
    "let $v as integer := count($v)\n",
    "return $v"
   ]
  },
  {
   "cell_type": "markdown",
   "metadata": {},
   "source": [
    "## Iteration"
   ]
  },
  {
   "cell_type": "markdown",
   "metadata": {},
   "source": [
    "It is possible to iterate on the elements in a sequence, like so:"
   ]
  },
  {
   "cell_type": "code",
   "execution_count": null,
   "metadata": {},
   "outputs": [],
   "source": [
    "%%jsoniq\n",
    "for $i in 1 to 10\n",
    "return $i * 2"
   ]
  },
  {
   "cell_type": "markdown",
   "metadata": {},
   "source": [
    "The sequence to iterator on can itself come from a dataset, such as the one we were using previously:"
   ]
  },
  {
   "cell_type": "code",
   "execution_count": null,
   "metadata": {},
   "outputs": [],
   "source": [
    "%%jsoniq\n",
    "for $event in json-file(\"http://www.rumbledb.org/samples/git-archive-small.json\")\n",
    "return size($event.payload.commits)"
   ]
  },
  {
   "cell_type": "markdown",
   "metadata": {},
   "source": [
    "`for` clauses can be mixed with `let` clauses:"
   ]
  },
  {
   "cell_type": "code",
   "execution_count": null,
   "metadata": {},
   "outputs": [],
   "source": [
    "%%jsoniq\n",
    "let $path := \"http://www.rumbledb.org/samples/git-archive-small.json\"\n",
    "for $event in json-file($path)\n",
    "let $commits := $event.payload.commits\n",
    "return size($commits)"
   ]
  },
  {
   "cell_type": "markdown",
   "metadata": {},
   "source": [
    "And the results can also be nested in a more complex query: for example, let us compute the max of all these array sizes."
   ]
  },
  {
   "cell_type": "code",
   "execution_count": null,
   "metadata": {},
   "outputs": [],
   "source": [
    "%%jsoniq\n",
    "max(\n",
    "  let $path := \"http://www.rumbledb.org/samples/git-archive-small.json\"\n",
    "  for $event in json-file($path)\n",
    "  let $commits := $event.payload.commits\n",
    "  return size($commits)\n",
    ")"
   ]
  },
  {
   "cell_type": "markdown",
   "metadata": {},
   "source": [
    "A third kind of clause is the `where` clause: it allows you to filter events. Let us only keep those with more than 10 commits, and count them."
   ]
  },
  {
   "cell_type": "code",
   "execution_count": null,
   "metadata": {},
   "outputs": [],
   "source": [
    "%%jsoniq\n",
    "count(\n",
    "  let $path := \"http://www.rumbledb.org/samples/git-archive-small.json\"\n",
    "  for $event in json-file($path)\n",
    "  let $commits := $event.payload.commits\n",
    "  where size($commits) gt 10\n",
    "  return $event\n",
    ")"
   ]
  },
  {
   "cell_type": "markdown",
   "metadata": {},
   "source": [
    "## Simple calculations"
   ]
  },
  {
   "cell_type": "markdown",
   "metadata": {},
   "source": [
    "Let us now look closer arithmetics, comparison and logic expressions. They are particularly useful in a where clause or in a Boolean predicate, however these expressions can be used just about anywhere as this is a functional language."
   ]
  },
  {
   "cell_type": "markdown",
   "metadata": {},
   "source": [
    "### Arithmetics"
   ]
  },
  {
   "cell_type": "markdown",
   "metadata": {},
   "source": [
    "JSONiq works like a calculator and can do arithmetics with the four basic operations."
   ]
  },
  {
   "cell_type": "code",
   "execution_count": null,
   "metadata": {},
   "outputs": [],
   "source": [
    "%%jsoniq\n",
    " (38 + 2) div 2 + 11 * 2\n"
   ]
  },
  {
   "cell_type": "markdown",
   "metadata": {},
   "source": [
    "(mind the division operator which is the \"div\" keyword. The slash operator has different semantics).\n",
    "\n",
    "Like JSON, JSONiq works with decimals and doubles:"
   ]
  },
  {
   "cell_type": "code",
   "execution_count": null,
   "metadata": {},
   "outputs": [],
   "source": [
    "%%jsoniq\n",
    " 6.022e23 * 42"
   ]
  },
  {
   "cell_type": "markdown",
   "metadata": {},
   "source": [
    "JSONiq also support modulos, integer division, and has a rich function library (trigonometry, logarithms, exponential, powers, etc)."
   ]
  },
  {
   "cell_type": "markdown",
   "metadata": {},
   "source": [
    "## Comparison"
   ]
  },
  {
   "cell_type": "markdown",
   "metadata": {},
   "source": [
    "Values (numbers, strings, dates, etc) can be compared with the binary operators `eq`, `ne`, `gt`, `ge`, `lt` and `le`.\n",
    "Let us change the comparison used in the where clause with other kinds."
   ]
  },
  {
   "cell_type": "code",
   "execution_count": null,
   "metadata": {},
   "outputs": [],
   "source": [
    "%%jsoniq\n",
    "count(\n",
    "  let $path := \"http://www.rumbledb.org/samples/git-archive-small.json\"\n",
    "  for $event in json-file($path)\n",
    "  let $commits := $event.payload.commits\n",
    "  where size($commits) gt 10\n",
    "  return $event\n",
    ")"
   ]
  },
  {
   "cell_type": "code",
   "execution_count": null,
   "metadata": {},
   "outputs": [],
   "source": [
    "%%jsoniq\n",
    "count(\n",
    "  let $path := \"http://www.rumbledb.org/samples/git-archive-small.json\"\n",
    "  for $event in json-file($path)\n",
    "  let $commits := $event.payload.commits\n",
    "  where size($commits) eq 10\n",
    "  return $event\n",
    ")"
   ]
  },
  {
   "cell_type": "code",
   "execution_count": null,
   "metadata": {},
   "outputs": [],
   "source": [
    "%%jsoniq\n",
    "count(\n",
    "  let $path := \"http://www.rumbledb.org/samples/git-archive-small.json\"\n",
    "  for $event in json-file($path)\n",
    "  let $commits := $event.payload.commits\n",
    "  where size($commits) ne 10\n",
    "  return $event\n",
    ")"
   ]
  },
  {
   "cell_type": "code",
   "execution_count": null,
   "metadata": {},
   "outputs": [],
   "source": [
    "%%jsoniq\n",
    "count(\n",
    "  let $path := \"http://www.rumbledb.org/samples/git-archive-small.json\"\n",
    "  for $event in json-file($path)\n",
    "  let $commits := $event.payload.commits\n",
    "  where size($commits) le 10\n",
    "  return $event\n",
    ")"
   ]
  },
  {
   "cell_type": "markdown",
   "metadata": {},
   "source": [
    "Why not = or < or >=? This is because these are more powerful. In fact, they implicitly perform an existential quantification over the operands."
   ]
  },
  {
   "cell_type": "code",
   "execution_count": null,
   "metadata": {},
   "outputs": [],
   "source": [
    "%%jsoniq\n",
    "1 to 10 = 5"
   ]
  },
  {
   "cell_type": "code",
   "execution_count": null,
   "metadata": {},
   "outputs": [],
   "source": [
    "%%jsoniq\n",
    "1 to 10 > 11 to 20"
   ]
  },
  {
   "cell_type": "markdown",
   "metadata": {},
   "source": [
    "### Logical operations\n",
    "\n",
    "JSONiq supports Boolean logic."
   ]
  },
  {
   "cell_type": "code",
   "execution_count": null,
   "metadata": {},
   "outputs": [],
   "source": [
    "%%jsoniq\n",
    "true and false"
   ]
  },
  {
   "cell_type": "code",
   "execution_count": null,
   "metadata": {},
   "outputs": [],
   "source": [
    "%%jsoniq\n",
    "(true or false) and (false or true)"
   ]
  },
  {
   "cell_type": "markdown",
   "metadata": {},
   "source": [
    "The unary not is also available:"
   ]
  },
  {
   "cell_type": "code",
   "execution_count": null,
   "metadata": {
    "cell_status": {
     "execute_time": {
      "duration": 243.537109375,
      "end_time": 1557235032261.665
     }
    }
   },
   "outputs": [],
   "source": [
    "%%jsoniq\n",
    "not true"
   ]
  },
  {
   "cell_type": "markdown",
   "metadata": {},
   "source": [
    "Note that JSONiq, unlike SQL, does two-valued logic. Nulls are automatically converted to false."
   ]
  },
  {
   "cell_type": "code",
   "execution_count": null,
   "metadata": {},
   "outputs": [],
   "source": [
    "%%jsoniq\n",
    "null and true"
   ]
  },
  {
   "cell_type": "markdown",
   "metadata": {},
   "source": [
    "Some non-Booleans can also get converted. For example, non-empty strings are converted to true and empty strings to false."
   ]
  },
  {
   "cell_type": "code",
   "execution_count": null,
   "metadata": {},
   "outputs": [],
   "source": [
    "%%jsoniq\n",
    "not \"\""
   ]
  },
  {
   "cell_type": "code",
   "execution_count": null,
   "metadata": {},
   "outputs": [],
   "source": [
    "%%jsoniq\n",
    "not \"non empty\""
   ]
  },
  {
   "cell_type": "markdown",
   "metadata": {},
   "source": [
    "Zero is converted to false, non-zero numbers to true."
   ]
  },
  {
   "cell_type": "code",
   "execution_count": null,
   "metadata": {},
   "outputs": [],
   "source": [
    "%%jsoniq\n",
    "not 0"
   ]
  },
  {
   "cell_type": "code",
   "execution_count": null,
   "metadata": {},
   "outputs": [],
   "source": [
    "%%jsoniq\n",
    "not 1e10"
   ]
  },
  {
   "cell_type": "markdown",
   "metadata": {},
   "source": [
    "### Strings\n",
    "\n",
    "JSONiq is capable of manipulating strings as well, using functions:\n"
   ]
  },
  {
   "cell_type": "code",
   "execution_count": null,
   "metadata": {
    "cell_status": {
     "execute_time": {
      "duration": 21398.401123046875,
      "end_time": 1557212587338.105
     }
    }
   },
   "outputs": [],
   "source": [
    "%%jsoniq\n",
    "concat(\"Hello \", \"Captain \", \"Kirk\")"
   ]
  },
  {
   "cell_type": "code",
   "execution_count": null,
   "metadata": {
    "cell_status": {
     "execute_time": {
      "duration": 752.509033203125,
      "end_time": 1557234001018.501
     }
    }
   },
   "outputs": [],
   "source": [
    "%%jsoniq\n",
    "substring(\"Mister Spock\", 8, 5)"
   ]
  },
  {
   "cell_type": "markdown",
   "metadata": {},
   "source": [
    "JSONiq comes up with a rich string function library out of the box, inherited from its base language. These functions are listed [here](https://www.w3.org/TR/xpath-functions-30/) (actually, you will find many more for numbers, dates, etc).\n"
   ]
  },
  {
   "cell_type": "markdown",
   "metadata": {
    "cell_status": {
     "execute_time": {
      "duration": 17337.39599609375,
      "end_time": 1557230774662.657
     }
    }
   },
   "source": [
    "\n",
    "### Sequences\n",
    "\n",
    "Until now, we have only been working with single values (an object, an array, a number, a string, a boolean). JSONiq supports sequences of values. You can build a sequence using commas:\n"
   ]
  },
  {
   "cell_type": "code",
   "execution_count": null,
   "metadata": {},
   "outputs": [],
   "source": [
    "%%jsoniq\n",
    " (1, 2, 3, 4, 5, 6, 7, 8, 9, 10)"
   ]
  },
  {
   "cell_type": "code",
   "execution_count": null,
   "metadata": {
    "cell_status": {
     "execute_time": {
      "duration": 222241.63500976562,
      "end_time": 1557387411306.792
     }
    }
   },
   "outputs": [],
   "source": [
    "%%jsoniq\n",
    "1, true, 4.2e1, \"Life\""
   ]
  },
  {
   "cell_type": "markdown",
   "metadata": {},
   "source": [
    "The \"to\" operator is very convenient, too:"
   ]
  },
  {
   "cell_type": "code",
   "execution_count": null,
   "metadata": {
    "cell_status": {
     "execute_time": {
      "duration": 39579.559814453125,
      "end_time": 1557387951481.842
     }
    }
   },
   "outputs": [],
   "source": [
    "%%jsoniq\n",
    " (1 to 100)"
   ]
  },
  {
   "cell_type": "markdown",
   "metadata": {},
   "source": [
    "Some functions even work on sequences:"
   ]
  },
  {
   "cell_type": "code",
   "execution_count": null,
   "metadata": {
    "cell_status": {
     "execute_time": {
      "duration": 27601.31787109375,
      "end_time": 1557171455208.987
     }
    }
   },
   "outputs": [],
   "source": [
    "%%jsoniq\n",
    "sum(1 to 100)"
   ]
  },
  {
   "cell_type": "code",
   "execution_count": null,
   "metadata": {
    "cell_status": {
     "execute_time": {
      "duration": 55527.44091796875,
      "end_time": 1557229508578.007
     }
    }
   },
   "outputs": [],
   "source": [
    "%%jsoniq\n",
    "string-join((\"These\", \"are\", \"some\", \"words\"), \"-\")"
   ]
  },
  {
   "cell_type": "code",
   "execution_count": null,
   "metadata": {
    "cell_status": {
     "execute_time": {
      "duration": 13343.739013671875,
      "end_time": 1557224627704.526
     }
    }
   },
   "outputs": [],
   "source": [
    "%%jsoniq\n",
    "count(10 to 20)"
   ]
  },
  {
   "cell_type": "code",
   "execution_count": null,
   "metadata": {
    "cell_status": {
     "execute_time": {
      "duration": 19340.81201171875,
      "end_time": 1557220260002.04
     }
    }
   },
   "outputs": [],
   "source": [
    "%%jsoniq\n",
    "avg(1 to 100)"
   ]
  },
  {
   "cell_type": "markdown",
   "metadata": {},
   "source": [
    "Unlike arrays, sequences are flat. The sequence (3) is identical to the integer 3, and (1, (2, 3)) is identical to (1, 2, 3). See [this post](https://www.jsoniq.org/docs/Introduction_to_JSONiq/html/ch17.html#:~:text=Any%20value%20returned%20by%20or,them%20to%20form%20bigger%20sequences.) for more detail on sequences vs. arrays."
   ]
  },
  {
   "cell_type": "markdown",
   "metadata": {},
   "source": [
    "and even filter out some values:"
   ]
  },
  {
   "cell_type": "code",
   "execution_count": null,
   "metadata": {},
   "outputs": [],
   "source": [
    "%%jsoniq\n",
    "let $sequence := 1 to 10\n",
    "for $value in $sequence\n",
    "let $square := $value * $value\n",
    "where $square < 10\n",
    "return $square"
   ]
  },
  {
   "cell_type": "markdown",
   "metadata": {},
   "source": [
    "Note that you can only iterate over sequences, not arrays. To iterate over an array, you can obtain the sequence of its values with the `[]` operator, like so:\n"
   ]
  },
  {
   "cell_type": "code",
   "execution_count": null,
   "metadata": {},
   "outputs": [],
   "source": [
    "%%jsoniq\n",
    "[1, 2, 3][]"
   ]
  },
  {
   "cell_type": "markdown",
   "metadata": {},
   "source": [
    "Compare the following two queries:"
   ]
  },
  {
   "cell_type": "code",
   "execution_count": null,
   "metadata": {},
   "outputs": [],
   "source": [
    "%%jsoniq\n",
    "let $sequence := [1, 2, 3][]\n",
    "for $value in $sequence\n",
    "let $square := $value * $value\n",
    "where $square < 10\n",
    "return $square"
   ]
  },
  {
   "cell_type": "code",
   "execution_count": null,
   "metadata": {},
   "outputs": [],
   "source": [
    "%%jsoniq\n",
    "let $sequence := [1, 2, 3]\n",
    "for $value in $sequence\n",
    "let $square := $value * $value\n",
    "where $square < 10\n",
    "return $square"
   ]
  },
  {
   "cell_type": "markdown",
   "metadata": {},
   "source": [
    "### Conditions\n",
    "\n",
    "You can make the output depend on a condition with an `if-then-else` construct:"
   ]
  },
  {
   "cell_type": "code",
   "execution_count": null,
   "metadata": {},
   "outputs": [],
   "source": [
    "%%jsoniq\n",
    "for $x in 1 to 10\n",
    "return if ($x < 5) then $x\n",
    "                   else -$x"
   ]
  },
  {
   "cell_type": "markdown",
   "metadata": {},
   "source": [
    "Note that the `else` clause is required - however, it can be the empty sequence `()` which is often when you need if only the `then` clause is relevant to you. For instance,"
   ]
  },
  {
   "cell_type": "code",
   "execution_count": null,
   "metadata": {},
   "outputs": [],
   "source": [
    "%%jsoniq\n",
    "for $x in 1 to 10\n",
    "return if ($x < 5) then $x\n",
    "                   else ()"
   ]
  },
  {
   "cell_type": "markdown",
   "metadata": {},
   "source": [
    "### Composability of Expressions\n",
    "\n",
    "Now that you know of a couple of elementary JSONiq expressions, you can combine them in more elaborate expressions. For example, you can put any sequence of values in an array:"
   ]
  },
  {
   "cell_type": "code",
   "execution_count": null,
   "metadata": {},
   "outputs": [],
   "source": [
    "%%jsoniq\n",
    "[ 1 to 10 ]"
   ]
  },
  {
   "cell_type": "markdown",
   "metadata": {},
   "source": [
    "Or you can dynamically compute the value of object pairs (or their key):"
   ]
  },
  {
   "cell_type": "code",
   "execution_count": null,
   "metadata": {},
   "outputs": [],
   "source": [
    "%%jsoniq\n",
    "{\n",
    "      \"Greeting\" : (let $d := \"Mister Spock\"\n",
    "                    return concat(\"Hello, \", $d)),\n",
    "      \"Farewell\" : string-join((\"Live\", \"long\", \"and\", \"prosper\"),\n",
    "                               \" \")\n",
    "}"
   ]
  },
  {
   "cell_type": "markdown",
   "metadata": {},
   "source": [
    "You can dynamically generate object singletons (with a single pair):\n"
   ]
  },
  {
   "cell_type": "code",
   "execution_count": null,
   "metadata": {},
   "outputs": [],
   "source": [
    "%%jsoniq\n",
    "{ concat(\"Integer \", 2) : 2 * 2 }"
   ]
  },
  {
   "cell_type": "markdown",
   "metadata": {},
   "source": [
    "and then merge lots of them into a new object with the `{| |}` notation:"
   ]
  },
  {
   "cell_type": "code",
   "execution_count": null,
   "metadata": {},
   "outputs": [],
   "source": [
    "%%jsoniq\n",
    "{|\n",
    "    for $i in 1 to 10\n",
    "    return { concat(\"Square of \", $i) : $i * $i }\n",
    "|}"
   ]
  }
 ],
 "metadata": {
  "anaconda-cloud": {},
  "colab": {
   "collapsed_sections": [],
   "name": "Exercise02_Blob_Storage.ipynb",
   "provenance": []
  },
  "kernelspec": {
   "display_name": "Python 3",
   "language": "python",
   "name": "python3"
  },
  "language_info": {
   "codemirror_mode": {
    "name": "ipython",
    "version": 3
   },
   "file_extension": ".py",
   "mimetype": "text/x-python",
   "name": "python",
   "nbconvert_exporter": "python",
   "pygments_lexer": "ipython3",
   "version": "3.7.4"
  }
 },
 "nbformat": 4,
 "nbformat_minor": 1
}

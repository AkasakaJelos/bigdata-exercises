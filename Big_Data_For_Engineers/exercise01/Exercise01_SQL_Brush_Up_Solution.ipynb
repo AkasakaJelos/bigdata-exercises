{
 "cells": [
  {
   "cell_type": "markdown",
   "metadata": {
    "colab_type": "text",
    "id": "qsDsV0anbN0H"
   },
   "source": [
    "# <center>Big Data For Engineers&ndash; Solutions</center>\n",
    "## <center>Spring 2025 &ndash; Week 1 &ndash; ETH Zurich</center>"
   ]
  },
  {
   "cell_type": "markdown",
   "metadata": {},
   "source": [
    "### Aims\n",
    "- **After this exercise:** Understand the SQL language and its common query patterns.\n",
    "- **Later in the semester:** Relate these language features and query patterns relative to other data shapes, technologies, and the languages designed to query them.\n",
    "\n",
    "\n",
    "\n",
    "- **After this exercise:** Understand the 'table' data shape, normalization, and when they can (and should) be used.\n",
    "- **Later in the semester:** Understand when you can (and should) throw all of this away!"
   ]
  },
  {
   "cell_type": "markdown",
   "metadata": {},
   "source": [
    "### Prerequisites\n",
    "In this exercise, you will brush-up the fundamental concepts of relational databases and SQL. If you haven't taken an introductory databases course (or want to refresh your knowledge) we recommend you to read the following:\n",
    "\n",
    "Garcia-Molina, Ullman, Widom: Database Systems: The Complete Book. Pearson, 2. Edition, 2008. (Chapters 1, 2, 3, and 6) [Available in the ETH Library] [[Online]](https://ebookcentral.proquest.com/lib/ethz/detail.action?pq-origsite=primo&docID=5832965) [[Selected solutions]](http://infolab.stanford.edu/~ullman/dscbsols/sols.html)"
   ]
  },
  {
   "cell_type": "markdown",
   "metadata": {},
   "source": [
    "### Database Set-up\n",
    "\n",
    "Unlike last week's exercise, the dataset for this exercise might take a little bit longer to download and initialize. Please wait for the message `PostgreSQL init process complete; ready for start up` in the terminal before proceeding!\n",
    "\n",
    "As before, we set up our connection to the database and enable use of `%sql` and `%%sql`."
   ]
  },
  {
   "cell_type": "code",
   "execution_count": 1,
   "metadata": {},
   "outputs": [
    {
     "data": {
      "text/html": [
       "<span style=\"None\">Connecting to &#x27;postgresql://postgres:***@db:5432/postgres&#x27;</span>"
      ],
      "text/plain": [
       "Connecting to 'postgresql://postgres:***@db:5432/postgres'"
      ]
     },
     "metadata": {},
     "output_type": "display_data"
    }
   ],
   "source": [
    "%reload_ext sql\n",
    "%sql postgresql://postgres:example@db:5432/postgres"
   ]
  },
  {
   "cell_type": "code",
   "execution_count": 2,
   "metadata": {},
   "outputs": [
    {
     "data": {
      "text/html": [
       "<span style=\"None\">Running query in &#x27;postgresql://postgres:***@db:5432/postgres&#x27;</span>"
      ],
      "text/plain": [
       "Running query in 'postgresql://postgres:***@db:5432/postgres'"
      ]
     },
     "metadata": {},
     "output_type": "display_data"
    },
    {
     "data": {
      "text/html": [
       "<span style=\"color: green\">1 rows affected.</span>"
      ],
      "text/plain": [
       "1 rows affected."
      ]
     },
     "metadata": {},
     "output_type": "display_data"
    },
    {
     "data": {
      "text/html": [
       "<table>\n",
       "    <thead>\n",
       "        <tr>\n",
       "            <th>version</th>\n",
       "        </tr>\n",
       "    </thead>\n",
       "    <tbody>\n",
       "        <tr>\n",
       "            <td>PostgreSQL 17.0 (Debian 17.0-1.pgdg120+1) on aarch64-unknown-linux-gnu, compiled by gcc (Debian 12.2.0-14) 12.2.0, 64-bit</td>\n",
       "        </tr>\n",
       "    </tbody>\n",
       "</table>"
      ],
      "text/plain": [
       "+---------------------------------------------------------------------------------------------------------------------------+\n",
       "|                                                          version                                                          |\n",
       "+---------------------------------------------------------------------------------------------------------------------------+\n",
       "| PostgreSQL 17.0 (Debian 17.0-1.pgdg120+1) on aarch64-unknown-linux-gnu, compiled by gcc (Debian 12.2.0-14) 12.2.0, 64-bit |\n",
       "+---------------------------------------------------------------------------------------------------------------------------+"
      ]
     },
     "execution_count": 2,
     "metadata": {},
     "output_type": "execute_result"
    }
   ],
   "source": [
    "%%sql\n",
    "SELECT version();"
   ]
  },
  {
   "cell_type": "markdown",
   "metadata": {},
   "source": [
    "## Exercise 1: Explore the dataset\n",
    "We want to first understand the dataset a bit better. You will find some queries below to help you explore the schema. In the process, consider the following questions:\n",
    "\n",
    "1. Which concepts are modelled in the dataset and how do they relate to each other?\n",
    "2. The data is stored as tables. Why was this shape chosen and why not the other shapes?\n",
    "3. In which normal forms are the corresponding relations?\n",
    "4. What are the efficiency trade-offs from adding an `artist_id` and `artist_name` directly to the `releases` table? Hints:\n",
    "   - What are some typical queries that would benefit from this change?\n",
    "   - How often do we need to update artists?\n",
    "5. What potential problems could result from adding this redundancy?\n",
    "\n",
    "### Where we got the data from\n",
    "- [Discogs](https://www.discogs.com/)\n",
    "- [Discogs XML data dumps](http://data.discogs.com/)\n",
    "- [Download the dataset](https://cloud.inf.ethz.ch/s/4bZWo4TjeXgCNz5) (only necessary if you don't want to use Docker, see `postgres-init.sh` to see how to import it)\n",
    "\n",
    "### List tables\n",
    "The following query retrieves a list of tables in the database from a system table describing the current database."
   ]
  },
  {
   "cell_type": "code",
   "execution_count": 3,
   "metadata": {},
   "outputs": [
    {
     "data": {
      "text/html": [
       "<span style=\"None\">Running query in &#x27;postgresql://postgres:***@db:5432/postgres&#x27;</span>"
      ],
      "text/plain": [
       "Running query in 'postgresql://postgres:***@db:5432/postgres'"
      ]
     },
     "metadata": {},
     "output_type": "display_data"
    },
    {
     "data": {
      "text/html": [
       "<span style=\"color: green\">22 rows affected.</span>"
      ],
      "text/plain": [
       "22 rows affected."
      ]
     },
     "metadata": {},
     "output_type": "display_data"
    },
    {
     "data": {
      "text/html": [
       "<table>\n",
       "    <thead>\n",
       "        <tr>\n",
       "            <th>table_name</th>\n",
       "        </tr>\n",
       "    </thead>\n",
       "    <tbody>\n",
       "        <tr>\n",
       "            <td>companies</td>\n",
       "        </tr>\n",
       "        <tr>\n",
       "            <td>jobs</td>\n",
       "        </tr>\n",
       "        <tr>\n",
       "            <td>employees02</td>\n",
       "        </tr>\n",
       "        <tr>\n",
       "            <td>badges</td>\n",
       "        </tr>\n",
       "        <tr>\n",
       "            <td>comments</td>\n",
       "        </tr>\n",
       "        <tr>\n",
       "            <td>inventory</td>\n",
       "        </tr>\n",
       "        <tr>\n",
       "            <td>posthistory</td>\n",
       "        </tr>\n",
       "        <tr>\n",
       "            <td>postlinks</td>\n",
       "        </tr>\n",
       "        <tr>\n",
       "            <td>posts</td>\n",
       "        </tr>\n",
       "        <tr>\n",
       "            <td>tags</td>\n",
       "        </tr>\n",
       "    </tbody>\n",
       "</table>\n",
       "<span style=\"font-style:italic;text-align:center;\">Truncated to <a href=\"https://jupysql.ploomber.io/en/latest/api/configuration.html#displaylimit\">displaylimit</a> of 10.</span>"
      ],
      "text/plain": [
       "+-------------+\n",
       "|  table_name |\n",
       "+-------------+\n",
       "|  companies  |\n",
       "|     jobs    |\n",
       "| employees02 |\n",
       "|    badges   |\n",
       "|   comments  |\n",
       "|  inventory  |\n",
       "| posthistory |\n",
       "|  postlinks  |\n",
       "|    posts    |\n",
       "|     tags    |\n",
       "+-------------+\n",
       "Truncated to displaylimit of 10."
      ]
     },
     "execution_count": 3,
     "metadata": {},
     "output_type": "execute_result"
    }
   ],
   "source": [
    "%%sql \n",
    "SELECT table_name\n",
    "FROM information_schema.tables\n",
    "WHERE table_schema = 'public';"
   ]
  },
  {
   "cell_type": "markdown",
   "metadata": {},
   "source": [
    "### List attributes/columns\n",
    "The following query retrieves a list of columns from the tables in the database."
   ]
  },
  {
   "cell_type": "code",
   "execution_count": 4,
   "metadata": {},
   "outputs": [
    {
     "data": {
      "text/html": [
       "<span style=\"None\">Running query in &#x27;postgresql://postgres:***@db:5432/postgres&#x27;</span>"
      ],
      "text/plain": [
       "Running query in 'postgresql://postgres:***@db:5432/postgres'"
      ]
     },
     "metadata": {},
     "output_type": "display_data"
    },
    {
     "data": {
      "text/html": [
       "<span style=\"color: green\">17 rows affected.</span>"
      ],
      "text/plain": [
       "17 rows affected."
      ]
     },
     "metadata": {},
     "output_type": "display_data"
    },
    {
     "data": {
      "text/html": [
       "<table>\n",
       "    <thead>\n",
       "        <tr>\n",
       "            <th>table_name</th>\n",
       "            <th>column_name</th>\n",
       "            <th>data_type</th>\n",
       "            <th>is_nullable</th>\n",
       "            <th>ordinal_position</th>\n",
       "        </tr>\n",
       "    </thead>\n",
       "    <tbody>\n",
       "        <tr>\n",
       "            <td>artists</td>\n",
       "            <td>artist_id</td>\n",
       "            <td>integer</td>\n",
       "            <td>NO</td>\n",
       "            <td>1</td>\n",
       "        </tr>\n",
       "        <tr>\n",
       "            <td>artists</td>\n",
       "            <td>name</td>\n",
       "            <td>character varying</td>\n",
       "            <td>YES</td>\n",
       "            <td>2</td>\n",
       "        </tr>\n",
       "        <tr>\n",
       "            <td>artists</td>\n",
       "            <td>realname</td>\n",
       "            <td>text</td>\n",
       "            <td>YES</td>\n",
       "            <td>3</td>\n",
       "        </tr>\n",
       "        <tr>\n",
       "            <td>artists</td>\n",
       "            <td>profile</td>\n",
       "            <td>text</td>\n",
       "            <td>YES</td>\n",
       "            <td>4</td>\n",
       "        </tr>\n",
       "        <tr>\n",
       "            <td>artists</td>\n",
       "            <td>url</td>\n",
       "            <td>text</td>\n",
       "            <td>YES</td>\n",
       "            <td>5</td>\n",
       "        </tr>\n",
       "        <tr>\n",
       "            <td>released_by</td>\n",
       "            <td>release_id</td>\n",
       "            <td>integer</td>\n",
       "            <td>NO</td>\n",
       "            <td>1</td>\n",
       "        </tr>\n",
       "        <tr>\n",
       "            <td>released_by</td>\n",
       "            <td>artist_id</td>\n",
       "            <td>integer</td>\n",
       "            <td>NO</td>\n",
       "            <td>2</td>\n",
       "        </tr>\n",
       "        <tr>\n",
       "            <td>releases</td>\n",
       "            <td>release_id</td>\n",
       "            <td>integer</td>\n",
       "            <td>NO</td>\n",
       "            <td>1</td>\n",
       "        </tr>\n",
       "        <tr>\n",
       "            <td>releases</td>\n",
       "            <td>released</td>\n",
       "            <td>date</td>\n",
       "            <td>NO</td>\n",
       "            <td>2</td>\n",
       "        </tr>\n",
       "        <tr>\n",
       "            <td>releases</td>\n",
       "            <td>title</td>\n",
       "            <td>text</td>\n",
       "            <td>NO</td>\n",
       "            <td>3</td>\n",
       "        </tr>\n",
       "    </tbody>\n",
       "</table>\n",
       "<span style=\"font-style:italic;text-align:center;\">Truncated to <a href=\"https://jupysql.ploomber.io/en/latest/api/configuration.html#displaylimit\">displaylimit</a> of 10.</span>"
      ],
      "text/plain": [
       "+-------------+-------------+-------------------+-------------+------------------+\n",
       "|  table_name | column_name |     data_type     | is_nullable | ordinal_position |\n",
       "+-------------+-------------+-------------------+-------------+------------------+\n",
       "|   artists   |  artist_id  |      integer      |      NO     |        1         |\n",
       "|   artists   |     name    | character varying |     YES     |        2         |\n",
       "|   artists   |   realname  |        text       |     YES     |        3         |\n",
       "|   artists   |   profile   |        text       |     YES     |        4         |\n",
       "|   artists   |     url     |        text       |     YES     |        5         |\n",
       "| released_by |  release_id |      integer      |      NO     |        1         |\n",
       "| released_by |  artist_id  |      integer      |      NO     |        2         |\n",
       "|   releases  |  release_id |      integer      |      NO     |        1         |\n",
       "|   releases  |   released  |        date       |      NO     |        2         |\n",
       "|   releases  |    title    |        text       |      NO     |        3         |\n",
       "+-------------+-------------+-------------------+-------------+------------------+\n",
       "Truncated to displaylimit of 10."
      ]
     },
     "execution_count": 4,
     "metadata": {},
     "output_type": "execute_result"
    }
   ],
   "source": [
    "%%sql \n",
    "SELECT table_name, column_name, data_type, is_nullable, ordinal_position\n",
    "FROM information_schema.columns\n",
    "WHERE table_schema = 'public' AND table_name IN ('artists', 'released_by', 'releases', 'tracks')\n",
    "AND table_name NOT LIKE 'pg_%'\n",
    "ORDER BY table_name, ordinal_position;"
   ]
  },
  {
   "cell_type": "markdown",
   "metadata": {
    "jp-MarkdownHeadingCollapsed": true,
    "tags": []
   },
   "source": [
    "### Exercise 1: Solution\n",
    "1. Which concepts are modelled in the dataset and how do they relate to each other?\n",
    "\n",
    "   The dataset contains data from `discogs` and models musical artists, their physical releases, and the tracks on those releases.\n",
    "\n",
    "2. The data is stored as tables. Why was this shape chosen and why not the other shapes?\n",
    "   - The number of concepts is limited, fixed, and well-defined.\n",
    "   - The same is true for attributes of these concepts.\n",
    "   - Attributes come from a well-defined domains with a fixed semantic (such as dates, e-mail addresses, ...).\n",
    "   - Instances of concepts are in relation with each other, which may or may not be required to exist.\n",
    "   - In short: we can define a schema, which the rest of the application (the website) relies on.\n",
    "\n",
    "\n",
    "3. In which normal forms are the corresponding relations?\n",
    "\n",
    "   - All relations are atomic so they are in 1NF.\n",
    "   - `artists` and `releases` both have a singular ID primary key, so they at least 2NF. Upon inspection, there are no transitive dependencies, so they are in 3NF.\n",
    "   - `released_by` does not contain non-key attributes, so it is in 3NF.\n",
    "   - `tracks` has a foreign key constraint but no primary key constraint (although this is not captured by normal forms). The reason is likely because the data is crowd-sourced and archival, and there could be duplicate entries in the database.\n",
    "\n",
    "\n",
    "4. What are the efficiency trade-offs from adding an `artist_id` and `artist_name` directly to the `releases` table? Hints:\n",
    "\n",
    "   - What are some typical queries that would benefit from this change?\n",
    "   - How often do we need to update artists?\n",
    "   \n",
    "   A very typical query is finding all the releases by an artist's name. If we redundantly store the artist's ID and name in `releases`, the aforementioned query now only requires a `SELECT` instead of an expensive `JOIN`. As releases can be released by multiple artists, we could also extend this idea and break 1NF by storing a list of artist names instead. The tradeoff here is that every time we have to update an artist's name we have to find and update all releases by that artist. Considering that reads are very common and changes are rare, the option of denormalizing becomes relatively more attractive.\n",
    "\n",
    "5. What potential problems could result from denormalizing the data?\n",
    "\n",
    "   - Insert anomaly: we could insert a release with a fake or incorrect artist name.\n",
    "   - Update anomaly: if we update an artist's name but not all of the records in `releases`, we introduce an inconsistency into the dataset."
   ]
  },
  {
   "cell_type": "markdown",
   "metadata": {},
   "source": [
    "## Exercise 2: SQL warm-up\n",
    "Let us begin with several SQL queries to ease us back into the language.\n",
    "\n",
    "1. Retrieve all artists with the name of 'Madonna'."
   ]
  },
  {
   "cell_type": "code",
   "execution_count": 7,
   "metadata": {},
   "outputs": [
    {
     "data": {
      "text/html": [
       "<span style=\"None\">Running query in &#x27;postgresql://postgres:***@db:5432/postgres&#x27;</span>"
      ],
      "text/plain": [
       "Running query in 'postgresql://postgres:***@db:5432/postgres'"
      ]
     },
     "metadata": {},
     "output_type": "display_data"
    },
    {
     "data": {
      "text/html": [
       "<span style=\"color: green\">1 rows affected.</span>"
      ],
      "text/plain": [
       "1 rows affected."
      ]
     },
     "metadata": {},
     "output_type": "display_data"
    },
    {
     "data": {
      "text/html": [
       "<table>\n",
       "    <thead>\n",
       "        <tr>\n",
       "            <th>artist_id</th>\n",
       "            <th>name</th>\n",
       "            <th>realname</th>\n",
       "            <th>profile</th>\n",
       "            <th>url</th>\n",
       "        </tr>\n",
       "    </thead>\n",
       "    <tbody>\n",
       "        <tr>\n",
       "            <td>8760</td>\n",
       "            <td>Madonna</td>\n",
       "            <td>Madonna Louise Veronica Ciccone</td>\n",
       "            <td>American singer, entertainer, songwriter, actress, director and businesswoman. Madonna achieved popularity by pushing the boundaries of lyrical content in mainstream popular music and imagery in her music videos. Referred to as the \"Queen of Pop\", Madonna is often cited as an influence by other artists.\r",
       " \r",
       " Born August 16, 1958 in Bay City, Michigan, Madonna moved to New York City to pursue a career in modern dance. After performing in the music groups [a=Breakfast Club] and [url=http://www.discogs.com/artist/Emmy+(7)]Emmy[/url], she signed with Sire in 1982 and released her debut album, [i][m=5319][/i], the following year. She followed it with a series of commercially successful albums, has sold more than 300 million records worldwide and is recognized as the best-selling female recording artist of all time by Guinness World Records.\r",
       " \r",
       " Madonna was inducted into the Rock and Roll Hall of Fame in her first year of eligibility. She was ranked at number one on VH1's list of 100 Greatest Women in Music, and at number two on Billboard's list of Greatest Hot 100 Artists of All Time (behind only The Beatles), the latter making her the most successful solo artist in the history of American singles chart.</td>\n",
       "            <td><a href=http://www.madonna.com>http://www.madonna.com</a></td>\n",
       "        </tr>\n",
       "    </tbody>\n",
       "</table>"
      ],
      "text/plain": [
       "+-----------+---------+---------------------------------+---------+-----------------------------------------------------------+\n",
       "| artist_id |   name  |             realname            | profile |                            url                            |\n",
       "+-----------+---------+---------------------------------+---------+-----------------------------------------------------------+\n",
       "|    8760   | Madonna | Madonna Louise Veronica Ciccone |     American singer, entertainer, songwriter, actress, director and businesswoman. Madonna achieved popularity by pushing the boundaries of lyrical content in mainstream popular music and imagery in her music videos. Referred to as the \"Queen of Pop\", Madonna is often cited as an influence by other artists.\n",
       " \n",
       " Born August 16, 1958 in Bay City, Michigan, Madonna moved to New York City to pursue a career in modern dance. After performing in the music groups [a=Breakfast Club] and [url=http://www.discogs.com/artist/Emmy+(7)]Emmy[/url], she signed with Sire in 1982 and released her debut album, [i][m=5319][/i], the following year. She followed it with a series of commercially successful albums, has sold more than 300 million records worldwide and is recognized as the best-selling female recording artist of all time by Guinness World Records.\n",
       " \n",
       " Madonna was inducted into the Rock and Roll Hall of Fame in her first year of eligibility. She was ranked at number one on VH1's list of 100 Greatest Women in Music, and at number two on Billboard's list of Greatest Hot 100 Artists of All Time (behind only The Beatles), the latter making her the most successful solo artist in the history of American singles chart.     | <a href=http://www.madonna.com>http://www.madonna.com</a> |\n",
       "+-----------+---------+---------------------------------+---------+-----------------------------------------------------------+"
      ]
     },
     "execution_count": 7,
     "metadata": {},
     "output_type": "execute_result"
    }
   ],
   "source": [
    "%%sql\n",
    "SELECT * FROM artists WHERE name = 'Madonna';"
   ]
  },
  {
   "cell_type": "markdown",
   "metadata": {},
   "source": [
    "2. List the titles of all releases by that artist in alphabetical order."
   ]
  },
  {
   "cell_type": "code",
   "execution_count": 8,
   "metadata": {},
   "outputs": [
    {
     "data": {
      "text/html": [
       "<span style=\"None\">Running query in &#x27;postgresql://postgres:***@db:5432/postgres&#x27;</span>"
      ],
      "text/plain": [
       "Running query in 'postgresql://postgres:***@db:5432/postgres'"
      ]
     },
     "metadata": {},
     "output_type": "display_data"
    },
    {
     "data": {
      "text/html": [
       "<span style=\"color: green\">200 rows affected.</span>"
      ],
      "text/plain": [
       "200 rows affected."
      ]
     },
     "metadata": {},
     "output_type": "display_data"
    },
    {
     "data": {
      "text/html": [
       "<table>\n",
       "    <thead>\n",
       "        <tr>\n",
       "            <th>title</th>\n",
       "        </tr>\n",
       "    </thead>\n",
       "    <tbody>\n",
       "        <tr>\n",
       "            <td>Accapella - Limited Edition Album</td>\n",
       "        </tr>\n",
       "        <tr>\n",
       "            <td>American Life</td>\n",
       "        </tr>\n",
       "        <tr>\n",
       "            <td>American Life / Die Another Day</td>\n",
       "        </tr>\n",
       "        <tr>\n",
       "            <td>American Life (The Remixes)</td>\n",
       "        </tr>\n",
       "        <tr>\n",
       "            <td>American Pie</td>\n",
       "        </tr>\n",
       "        <tr>\n",
       "            <td>Angel</td>\n",
       "        </tr>\n",
       "        <tr>\n",
       "            <td>Angel (Extended Dance Mix)</td>\n",
       "        </tr>\n",
       "        <tr>\n",
       "            <td>Bad Girl</td>\n",
       "        </tr>\n",
       "        <tr>\n",
       "            <td>Beautiful Stranger</td>\n",
       "        </tr>\n",
       "        <tr>\n",
       "            <td>Beautiful Stranger (Music From The Motion Picture Austin Powers \"The Spy Who Shagged Me\")</td>\n",
       "        </tr>\n",
       "    </tbody>\n",
       "</table>\n",
       "<span style=\"font-style:italic;text-align:center;\">Truncated to <a href=\"https://jupysql.ploomber.io/en/latest/api/configuration.html#displaylimit\">displaylimit</a> of 10.</span>"
      ],
      "text/plain": [
       "+-------------------------------------------------------------------------------------------+\n",
       "|                                           title                                           |\n",
       "+-------------------------------------------------------------------------------------------+\n",
       "|                             Accapella - Limited Edition Album                             |\n",
       "|                                       American Life                                       |\n",
       "|                              American Life / Die Another Day                              |\n",
       "|                                American Life (The Remixes)                                |\n",
       "|                                        American Pie                                       |\n",
       "|                                           Angel                                           |\n",
       "|                                 Angel (Extended Dance Mix)                                |\n",
       "|                                          Bad Girl                                         |\n",
       "|                                     Beautiful Stranger                                    |\n",
       "| Beautiful Stranger (Music From The Motion Picture Austin Powers \"The Spy Who Shagged Me\") |\n",
       "+-------------------------------------------------------------------------------------------+\n",
       "Truncated to displaylimit of 10."
      ]
     },
     "execution_count": 8,
     "metadata": {},
     "output_type": "execute_result"
    }
   ],
   "source": [
    "%%sql\n",
    "SELECT DISTINCT releases.title\n",
    "FROM artists\n",
    "JOIN released_by USING(artist_id)\n",
    "JOIN releases USING(release_id)\n",
    "WHERE artists.name = 'Madonna'\n",
    "ORDER BY releases.title;"
   ]
  },
  {
   "cell_type": "markdown",
   "metadata": {},
   "source": [
    "3. List the titles of all releases by that artist that contain less than 5 tracks."
   ]
  },
  {
   "cell_type": "code",
   "execution_count": 9,
   "metadata": {},
   "outputs": [
    {
     "data": {
      "text/html": [
       "<span style=\"None\">Running query in &#x27;postgresql://postgres:***@db:5432/postgres&#x27;</span>"
      ],
      "text/plain": [
       "Running query in 'postgresql://postgres:***@db:5432/postgres'"
      ]
     },
     "metadata": {},
     "output_type": "display_data"
    },
    {
     "data": {
      "text/html": [
       "<span style=\"color: green\">426 rows affected.</span>"
      ],
      "text/plain": [
       "426 rows affected."
      ]
     },
     "metadata": {},
     "output_type": "display_data"
    },
    {
     "data": {
      "text/html": [
       "<table>\n",
       "    <thead>\n",
       "        <tr>\n",
       "            <th>title</th>\n",
       "            <th>num_tracks</th>\n",
       "        </tr>\n",
       "    </thead>\n",
       "    <tbody>\n",
       "        <tr>\n",
       "            <td>Nothing Really Matters</td>\n",
       "            <td>3</td>\n",
       "        </tr>\n",
       "        <tr>\n",
       "            <td>Music</td>\n",
       "            <td>4</td>\n",
       "        </tr>\n",
       "        <tr>\n",
       "            <td>Bedtime Story</td>\n",
       "            <td>4</td>\n",
       "        </tr>\n",
       "        <tr>\n",
       "            <td>Music</td>\n",
       "            <td>4</td>\n",
       "        </tr>\n",
       "        <tr>\n",
       "            <td>What It Feels Like For A Girl</td>\n",
       "            <td>4</td>\n",
       "        </tr>\n",
       "        <tr>\n",
       "            <td>What It Feels Like For A Girl</td>\n",
       "            <td>4</td>\n",
       "        </tr>\n",
       "        <tr>\n",
       "            <td>American Pie</td>\n",
       "            <td>4</td>\n",
       "        </tr>\n",
       "        <tr>\n",
       "            <td>Like A Prayer</td>\n",
       "            <td>3</td>\n",
       "        </tr>\n",
       "        <tr>\n",
       "            <td>The Power Of Good-Bye</td>\n",
       "            <td>4</td>\n",
       "        </tr>\n",
       "        <tr>\n",
       "            <td>Human Nature</td>\n",
       "            <td>4</td>\n",
       "        </tr>\n",
       "    </tbody>\n",
       "</table>\n",
       "<span style=\"font-style:italic;text-align:center;\">Truncated to <a href=\"https://jupysql.ploomber.io/en/latest/api/configuration.html#displaylimit\">displaylimit</a> of 10.</span>"
      ],
      "text/plain": [
       "+-------------------------------+------------+\n",
       "|             title             | num_tracks |\n",
       "+-------------------------------+------------+\n",
       "|     Nothing Really Matters    |     3      |\n",
       "|             Music             |     4      |\n",
       "|         Bedtime Story         |     4      |\n",
       "|             Music             |     4      |\n",
       "| What It Feels Like For A Girl |     4      |\n",
       "| What It Feels Like For A Girl |     4      |\n",
       "|          American Pie         |     4      |\n",
       "|         Like A Prayer         |     3      |\n",
       "|     The Power Of Good-Bye     |     4      |\n",
       "|          Human Nature         |     4      |\n",
       "+-------------------------------+------------+\n",
       "Truncated to displaylimit of 10."
      ]
     },
     "execution_count": 9,
     "metadata": {},
     "output_type": "execute_result"
    }
   ],
   "source": [
    "%%sql\n",
    "SELECT releases.title, COUNT(*) AS num_tracks\n",
    "FROM artists\n",
    "JOIN released_by USING(artist_id)\n",
    "JOIN releases USING(release_id)\n",
    "JOIN tracks USING(release_id)\n",
    "WHERE artists.name = 'Madonna'\n",
    "GROUP BY releases.release_id, releases.title\n",
    "HAVING COUNT(*) < 5;"
   ]
  },
  {
   "cell_type": "markdown",
   "metadata": {},
   "source": [
    "4. What are the top 10 artists with the most releases?"
   ]
  },
  {
   "cell_type": "code",
   "execution_count": 10,
   "metadata": {},
   "outputs": [
    {
     "data": {
      "text/html": [
       "<span style=\"None\">Running query in &#x27;postgresql://postgres:***@db:5432/postgres&#x27;</span>"
      ],
      "text/plain": [
       "Running query in 'postgresql://postgres:***@db:5432/postgres'"
      ]
     },
     "metadata": {},
     "output_type": "display_data"
    },
    {
     "data": {
      "text/html": [
       "<span style=\"color: green\">10 rows affected.</span>"
      ],
      "text/plain": [
       "10 rows affected."
      ]
     },
     "metadata": {},
     "output_type": "display_data"
    },
    {
     "data": {
      "text/html": [
       "<table>\n",
       "    <thead>\n",
       "        <tr>\n",
       "            <th>artist_id</th>\n",
       "            <th>name</th>\n",
       "            <th>num_releases</th>\n",
       "        </tr>\n",
       "    </thead>\n",
       "    <tbody>\n",
       "        <tr>\n",
       "            <td>194</td>\n",
       "            <td>Various Artists</td>\n",
       "            <td>46123</td>\n",
       "        </tr>\n",
       "        <tr>\n",
       "            <td>8760</td>\n",
       "            <td>Madonna</td>\n",
       "            <td>617</td>\n",
       "        </tr>\n",
       "        <tr>\n",
       "            <td>7552</td>\n",
       "            <td>Pet Shop Boys</td>\n",
       "            <td>600</td>\n",
       "        </tr>\n",
       "        <tr>\n",
       "            <td>4118</td>\n",
       "            <td>Faithless</td>\n",
       "            <td>336</td>\n",
       "        </tr>\n",
       "        <tr>\n",
       "            <td>15885</td>\n",
       "            <td>Michael Jackson</td>\n",
       "            <td>332</td>\n",
       "        </tr>\n",
       "        <tr>\n",
       "            <td>10343</td>\n",
       "            <td>Tangerine Dream</td>\n",
       "            <td>295</td>\n",
       "        </tr>\n",
       "        <tr>\n",
       "            <td>1280</td>\n",
       "            <td>Underworld</td>\n",
       "            <td>273</td>\n",
       "        </tr>\n",
       "        <tr>\n",
       "            <td>8024</td>\n",
       "            <td>Janet Jackson</td>\n",
       "            <td>249</td>\n",
       "        </tr>\n",
       "        <tr>\n",
       "            <td>7142</td>\n",
       "            <td>The Art Of Noise</td>\n",
       "            <td>238</td>\n",
       "        </tr>\n",
       "        <tr>\n",
       "            <td>1279</td>\n",
       "            <td>Orbital</td>\n",
       "            <td>236</td>\n",
       "        </tr>\n",
       "    </tbody>\n",
       "</table>\n",
       "<span style=\"font-style:italic;text-align:center;\">Truncated to <a href=\"https://jupysql.ploomber.io/en/latest/api/configuration.html#displaylimit\">displaylimit</a> of 10.</span>"
      ],
      "text/plain": [
       "+-----------+------------------+--------------+\n",
       "| artist_id |       name       | num_releases |\n",
       "+-----------+------------------+--------------+\n",
       "|    194    | Various Artists  |    46123     |\n",
       "|    8760   |     Madonna      |     617      |\n",
       "|    7552   |  Pet Shop Boys   |     600      |\n",
       "|    4118   |    Faithless     |     336      |\n",
       "|   15885   | Michael Jackson  |     332      |\n",
       "|   10343   | Tangerine Dream  |     295      |\n",
       "|    1280   |    Underworld    |     273      |\n",
       "|    8024   |  Janet Jackson   |     249      |\n",
       "|    7142   | The Art Of Noise |     238      |\n",
       "|    1279   |     Orbital      |     236      |\n",
       "+-----------+------------------+--------------+\n",
       "Truncated to displaylimit of 10."
      ]
     },
     "execution_count": 10,
     "metadata": {},
     "output_type": "execute_result"
    }
   ],
   "source": [
    "%%sql\n",
    "SELECT artists.artist_id, artists.name, COUNT(*) AS num_releases\n",
    "FROM artists\n",
    "JOIN released_by USING(artist_id)\n",
    "JOIN releases USING(release_id)\n",
    "GROUP BY artists.artist_id, artists.name\n",
    "ORDER BY num_releases DESC\n",
    "LIMIT 10;"
   ]
  },
  {
   "cell_type": "markdown",
   "metadata": {},
   "source": [
    "5. How many artists have more releases than the average number of releases per artists (who have at least 1 release)"
   ]
  },
  {
   "cell_type": "code",
   "execution_count": 11,
   "metadata": {},
   "outputs": [
    {
     "data": {
      "text/html": [
       "<span style=\"None\">Running query in &#x27;postgresql://postgres:***@db:5432/postgres&#x27;</span>"
      ],
      "text/plain": [
       "Running query in 'postgresql://postgres:***@db:5432/postgres'"
      ]
     },
     "metadata": {},
     "output_type": "display_data"
    },
    {
     "data": {
      "text/html": [
       "<span style=\"color: green\">1 rows affected.</span>"
      ],
      "text/plain": [
       "1 rows affected."
      ]
     },
     "metadata": {},
     "output_type": "display_data"
    },
    {
     "data": {
      "text/html": [
       "<table>\n",
       "    <thead>\n",
       "        <tr>\n",
       "            <th>count</th>\n",
       "        </tr>\n",
       "    </thead>\n",
       "    <tbody>\n",
       "        <tr>\n",
       "            <td>6568</td>\n",
       "        </tr>\n",
       "    </tbody>\n",
       "</table>"
      ],
      "text/plain": [
       "+-------+\n",
       "| count |\n",
       "+-------+\n",
       "|  6568 |\n",
       "+-------+"
      ]
     },
     "execution_count": 11,
     "metadata": {},
     "output_type": "execute_result"
    }
   ],
   "source": [
    "%%sql\n",
    "\n",
    "SELECT COUNT(*)\n",
    "FROM (\n",
    "    SELECT COUNT(*) AS release_count\n",
    "    FROM artists\n",
    "    JOIN released_by USING(artist_id)\n",
    "    JOIN releases USING(release_id)\n",
    "    GROUP BY artists.artist_id) releases_per_artist\n",
    "WHERE release_count > \n",
    "            (SELECT AVG(release_count)\n",
    "             FROM\n",
    "               (SELECT COUNT(*) AS release_count\n",
    "                FROM artists\n",
    "                JOIN released_by USING(artist_id)\n",
    "                JOIN releases USING(release_id)\n",
    "                GROUP BY artists.artist_id) releases_per_artist)"
   ]
  },
  {
   "cell_type": "markdown",
   "metadata": {},
   "source": [
    "6. What are the names and IDs of the artists that have both a release with the genre 'Pop' *and* a release with the genre 'Classical'? Give a query that uses `INTERSECT` and one that uses `EXISTS`."
   ]
  },
  {
   "cell_type": "code",
   "execution_count": 12,
   "metadata": {},
   "outputs": [
    {
     "data": {
      "text/html": [
       "<span style=\"None\">Running query in &#x27;postgresql://postgres:***@db:5432/postgres&#x27;</span>"
      ],
      "text/plain": [
       "Running query in 'postgresql://postgres:***@db:5432/postgres'"
      ]
     },
     "metadata": {},
     "output_type": "display_data"
    },
    {
     "data": {
      "text/html": [
       "<span style=\"color: green\">5 rows affected.</span>"
      ],
      "text/plain": [
       "5 rows affected."
      ]
     },
     "metadata": {},
     "output_type": "display_data"
    },
    {
     "data": {
      "text/html": [
       "<table>\n",
       "    <thead>\n",
       "        <tr>\n",
       "            <th>artist_id</th>\n",
       "            <th>name</th>\n",
       "        </tr>\n",
       "    </thead>\n",
       "    <tbody>\n",
       "        <tr>\n",
       "            <td>273394</td>\n",
       "            <td>John Williams (4)</td>\n",
       "        </tr>\n",
       "        <tr>\n",
       "            <td>15900</td>\n",
       "            <td>Ennio Morricone</td>\n",
       "        </tr>\n",
       "        <tr>\n",
       "            <td>59756</td>\n",
       "            <td>Sarah Brightman</td>\n",
       "        </tr>\n",
       "        <tr>\n",
       "            <td>208267</td>\n",
       "            <td>Jerry Goldsmith</td>\n",
       "        </tr>\n",
       "        <tr>\n",
       "            <td>194</td>\n",
       "            <td>Various Artists</td>\n",
       "        </tr>\n",
       "    </tbody>\n",
       "</table>"
      ],
      "text/plain": [
       "+-----------+-------------------+\n",
       "| artist_id |        name       |\n",
       "+-----------+-------------------+\n",
       "|   273394  | John Williams (4) |\n",
       "|   15900   |  Ennio Morricone  |\n",
       "|   59756   |  Sarah Brightman  |\n",
       "|   208267  |  Jerry Goldsmith  |\n",
       "|    194    |  Various Artists  |\n",
       "+-----------+-------------------+"
      ]
     },
     "execution_count": 12,
     "metadata": {},
     "output_type": "execute_result"
    }
   ],
   "source": [
    "%%sql\n",
    "SELECT artists.artist_id, artists.name\n",
    "FROM artists\n",
    "JOIN released_by USING(artist_id)\n",
    "JOIN releases USING(release_id)\n",
    "WHERE releases.genre = 'Pop'\n",
    "INTERSECT\n",
    "SELECT artists.artist_id, artists.name\n",
    "FROM artists\n",
    "JOIN released_by USING(artist_id)\n",
    "JOIN releases USING(release_id)\n",
    "WHERE releases.genre = 'Classical'"
   ]
  },
  {
   "cell_type": "code",
   "execution_count": 13,
   "metadata": {
    "tags": []
   },
   "outputs": [
    {
     "data": {
      "text/html": [
       "<span style=\"None\">Running query in &#x27;postgresql://postgres:***@db:5432/postgres&#x27;</span>"
      ],
      "text/plain": [
       "Running query in 'postgresql://postgres:***@db:5432/postgres'"
      ]
     },
     "metadata": {},
     "output_type": "display_data"
    },
    {
     "data": {
      "text/html": [
       "<span style=\"color: green\">5 rows affected.</span>"
      ],
      "text/plain": [
       "5 rows affected."
      ]
     },
     "metadata": {},
     "output_type": "display_data"
    },
    {
     "data": {
      "text/html": [
       "<table>\n",
       "    <thead>\n",
       "        <tr>\n",
       "            <th>artist_id</th>\n",
       "            <th>name</th>\n",
       "        </tr>\n",
       "    </thead>\n",
       "    <tbody>\n",
       "        <tr>\n",
       "            <td>208267</td>\n",
       "            <td>Jerry Goldsmith</td>\n",
       "        </tr>\n",
       "        <tr>\n",
       "            <td>15900</td>\n",
       "            <td>Ennio Morricone</td>\n",
       "        </tr>\n",
       "        <tr>\n",
       "            <td>59756</td>\n",
       "            <td>Sarah Brightman</td>\n",
       "        </tr>\n",
       "        <tr>\n",
       "            <td>194</td>\n",
       "            <td>Various Artists</td>\n",
       "        </tr>\n",
       "        <tr>\n",
       "            <td>273394</td>\n",
       "            <td>John Williams (4)</td>\n",
       "        </tr>\n",
       "    </tbody>\n",
       "</table>"
      ],
      "text/plain": [
       "+-----------+-------------------+\n",
       "| artist_id |        name       |\n",
       "+-----------+-------------------+\n",
       "|   208267  |  Jerry Goldsmith  |\n",
       "|   15900   |  Ennio Morricone  |\n",
       "|   59756   |  Sarah Brightman  |\n",
       "|    194    |  Various Artists  |\n",
       "|   273394  | John Williams (4) |\n",
       "+-----------+-------------------+"
      ]
     },
     "execution_count": 13,
     "metadata": {},
     "output_type": "execute_result"
    }
   ],
   "source": [
    "%%sql\n",
    "SELECT a1.artist_id, a1.name\n",
    "FROM artists a1\n",
    "WHERE EXISTS (\n",
    "    SELECT *\n",
    "    FROM artists a2\n",
    "    JOIN released_by USING(artist_id)\n",
    "    JOIN releases USING(release_id)\n",
    "    WHERE releases.genre = 'Pop'\n",
    "    AND a1.artist_id = a2.artist_id\n",
    ") AND EXISTS (\n",
    "    SELECT *\n",
    "    FROM artists a2\n",
    "    JOIN released_by USING(artist_id)\n",
    "    JOIN releases USING(release_id)\n",
    "    WHERE releases.genre = 'Classical'\n",
    "    AND a1.artist_id = a2.artist_id\n",
    ")"
   ]
  },
  {
   "cell_type": "markdown",
   "metadata": {},
   "source": [
    "## Exercise 3: Impact of release genre on average track duration and track count\n",
    "For this exercise, we want to find out how average track duration and track count varies across genres.\n",
    "\n",
    "To start, write a query which finds all of the distinct genres:"
   ]
  },
  {
   "cell_type": "code",
   "execution_count": 14,
   "metadata": {},
   "outputs": [
    {
     "data": {
      "text/html": [
       "<span style=\"None\">Running query in &#x27;postgresql://postgres:***@db:5432/postgres&#x27;</span>"
      ],
      "text/plain": [
       "Running query in 'postgresql://postgres:***@db:5432/postgres'"
      ]
     },
     "metadata": {},
     "output_type": "display_data"
    },
    {
     "data": {
      "text/html": [
       "<span style=\"color: green\">15 rows affected.</span>"
      ],
      "text/plain": [
       "15 rows affected."
      ]
     },
     "metadata": {},
     "output_type": "display_data"
    },
    {
     "data": {
      "text/html": [
       "<table>\n",
       "    <thead>\n",
       "        <tr>\n",
       "            <th>genre</th>\n",
       "        </tr>\n",
       "    </thead>\n",
       "    <tbody>\n",
       "        <tr>\n",
       "            <td>Blues</td>\n",
       "        </tr>\n",
       "        <tr>\n",
       "            <td>Brass & Military</td>\n",
       "        </tr>\n",
       "        <tr>\n",
       "            <td>Children's</td>\n",
       "        </tr>\n",
       "        <tr>\n",
       "            <td>Classical</td>\n",
       "        </tr>\n",
       "        <tr>\n",
       "            <td>Electronic</td>\n",
       "        </tr>\n",
       "        <tr>\n",
       "            <td>Folk, World, & Country</td>\n",
       "        </tr>\n",
       "        <tr>\n",
       "            <td>Funk / Soul</td>\n",
       "        </tr>\n",
       "        <tr>\n",
       "            <td>Hip Hop</td>\n",
       "        </tr>\n",
       "        <tr>\n",
       "            <td>Jazz</td>\n",
       "        </tr>\n",
       "        <tr>\n",
       "            <td>Latin</td>\n",
       "        </tr>\n",
       "    </tbody>\n",
       "</table>\n",
       "<span style=\"font-style:italic;text-align:center;\">Truncated to <a href=\"https://jupysql.ploomber.io/en/latest/api/configuration.html#displaylimit\">displaylimit</a> of 10.</span>"
      ],
      "text/plain": [
       "+------------------------+\n",
       "|         genre          |\n",
       "+------------------------+\n",
       "|         Blues          |\n",
       "|    Brass & Military    |\n",
       "|       Children's       |\n",
       "|       Classical        |\n",
       "|       Electronic       |\n",
       "| Folk, World, & Country |\n",
       "|      Funk / Soul       |\n",
       "|        Hip Hop         |\n",
       "|          Jazz          |\n",
       "|         Latin          |\n",
       "+------------------------+\n",
       "Truncated to displaylimit of 10."
      ]
     },
     "execution_count": 14,
     "metadata": {},
     "output_type": "execute_result"
    }
   ],
   "source": [
    "%%sql\n",
    "SELECT DISTINCT genre\n",
    "FROM releases;"
   ]
  },
  {
   "cell_type": "markdown",
   "metadata": {},
   "source": [
    "Take a guess as to which genre has:\n",
    "1. The highest average track count?\n",
    "2. The lowest average track count?\n",
    "3. The longest average track duration?\n",
    "4. The shortest average track duration?\n",
    "\n",
    "Next, write a query to calculate the average track count per genre:"
   ]
  },
  {
   "cell_type": "code",
   "execution_count": 15,
   "metadata": {},
   "outputs": [
    {
     "data": {
      "text/html": [
       "<span style=\"None\">Running query in &#x27;postgresql://postgres:***@db:5432/postgres&#x27;</span>"
      ],
      "text/plain": [
       "Running query in 'postgresql://postgres:***@db:5432/postgres'"
      ]
     },
     "metadata": {},
     "output_type": "display_data"
    },
    {
     "data": {
      "text/html": [
       "<span style=\"color: green\">15 rows affected.</span>"
      ],
      "text/plain": [
       "15 rows affected."
      ]
     },
     "metadata": {},
     "output_type": "display_data"
    },
    {
     "data": {
      "text/html": [
       "<table>\n",
       "    <thead>\n",
       "        <tr>\n",
       "            <th>genre</th>\n",
       "            <th>avg_track_count</th>\n",
       "        </tr>\n",
       "    </thead>\n",
       "    <tbody>\n",
       "        <tr>\n",
       "            <td>Funk / Soul</td>\n",
       "            <td>6.8075666848121938</td>\n",
       "        </tr>\n",
       "        <tr>\n",
       "            <td>Electronic</td>\n",
       "            <td>7.2625240795359316</td>\n",
       "        </tr>\n",
       "        <tr>\n",
       "            <td>Pop</td>\n",
       "            <td>8.3270622286541245</td>\n",
       "        </tr>\n",
       "        <tr>\n",
       "            <td>Hip Hop</td>\n",
       "            <td>8.9810341573881865</td>\n",
       "        </tr>\n",
       "        <tr>\n",
       "            <td>Classical</td>\n",
       "            <td>9.5642023346303502</td>\n",
       "        </tr>\n",
       "        <tr>\n",
       "            <td>Brass & Military</td>\n",
       "            <td>10.0000000000000000</td>\n",
       "        </tr>\n",
       "        <tr>\n",
       "            <td>Rock</td>\n",
       "            <td>10.0942363605267659</td>\n",
       "        </tr>\n",
       "        <tr>\n",
       "            <td>Reggae</td>\n",
       "            <td>10.1671490593342981</td>\n",
       "        </tr>\n",
       "        <tr>\n",
       "            <td>Non-Music</td>\n",
       "            <td>11.2124645892351275</td>\n",
       "        </tr>\n",
       "        <tr>\n",
       "            <td>Latin</td>\n",
       "            <td>11.7385620915032680</td>\n",
       "        </tr>\n",
       "    </tbody>\n",
       "</table>\n",
       "<span style=\"font-style:italic;text-align:center;\">Truncated to <a href=\"https://jupysql.ploomber.io/en/latest/api/configuration.html#displaylimit\">displaylimit</a> of 10.</span>"
      ],
      "text/plain": [
       "+------------------+---------------------+\n",
       "|      genre       |   avg_track_count   |\n",
       "+------------------+---------------------+\n",
       "|   Funk / Soul    |  6.8075666848121938 |\n",
       "|    Electronic    |  7.2625240795359316 |\n",
       "|       Pop        |  8.3270622286541245 |\n",
       "|     Hip Hop      |  8.9810341573881865 |\n",
       "|    Classical     |  9.5642023346303502 |\n",
       "| Brass & Military | 10.0000000000000000 |\n",
       "|       Rock       | 10.0942363605267659 |\n",
       "|      Reggae      | 10.1671490593342981 |\n",
       "|    Non-Music     | 11.2124645892351275 |\n",
       "|      Latin       | 11.7385620915032680 |\n",
       "+------------------+---------------------+\n",
       "Truncated to displaylimit of 10."
      ]
     },
     "execution_count": 15,
     "metadata": {},
     "output_type": "execute_result"
    }
   ],
   "source": [
    "%%sql \n",
    "SELECT tracks_per_release.genre, AVG(tracks_per_release.track_count) AS avg_track_count\n",
    "FROM \n",
    "    (SELECT releases.genre, COUNT(*) AS track_count\n",
    "    FROM releases JOIN tracks USING(release_id)\n",
    "    GROUP BY releases.release_id, releases.genre) tracks_per_release\n",
    "GROUP BY tracks_per_release.genre\n",
    "ORDER BY avg_track_count"
   ]
  },
  {
   "cell_type": "markdown",
   "metadata": {},
   "source": [
    "Write a query to calculate the average duration per genre. Your result should have two attributes: `genre` and `avg_duration`."
   ]
  },
  {
   "cell_type": "code",
   "execution_count": 16,
   "metadata": {
    "scrolled": true
   },
   "outputs": [
    {
     "data": {
      "text/html": [
       "<span style=\"None\">Running query in &#x27;postgresql://postgres:***@db:5432/postgres&#x27;</span>"
      ],
      "text/plain": [
       "Running query in 'postgresql://postgres:***@db:5432/postgres'"
      ]
     },
     "metadata": {},
     "output_type": "display_data"
    },
    {
     "data": {
      "text/html": [
       "<span style=\"color: green\">15 rows affected.</span>"
      ],
      "text/plain": [
       "15 rows affected."
      ]
     },
     "metadata": {},
     "output_type": "display_data"
    },
    {
     "data": {
      "text/html": [
       "<table>\n",
       "    <thead>\n",
       "        <tr>\n",
       "            <th>genre</th>\n",
       "            <th>avg_duration</th>\n",
       "        </tr>\n",
       "    </thead>\n",
       "    <tbody>\n",
       "        <tr>\n",
       "            <td>Children's</td>\n",
       "            <td>200.7361111111111111</td>\n",
       "        </tr>\n",
       "        <tr>\n",
       "            <td>Blues</td>\n",
       "            <td>232.7512562814070352</td>\n",
       "        </tr>\n",
       "        <tr>\n",
       "            <td>Stage & Screen</td>\n",
       "            <td>235.7117437722419929</td>\n",
       "        </tr>\n",
       "        <tr>\n",
       "            <td>Pop</td>\n",
       "            <td>254.8109141466805700</td>\n",
       "        </tr>\n",
       "        <tr>\n",
       "            <td>Rock</td>\n",
       "            <td>264.6603242913539249</td>\n",
       "        </tr>\n",
       "        <tr>\n",
       "            <td>Latin</td>\n",
       "            <td>266.9276169265033408</td>\n",
       "        </tr>\n",
       "        <tr>\n",
       "            <td>Brass & Military</td>\n",
       "            <td>270.1500000000000000</td>\n",
       "        </tr>\n",
       "        <tr>\n",
       "            <td>Hip Hop</td>\n",
       "            <td>278.2096741996827098</td>\n",
       "        </tr>\n",
       "        <tr>\n",
       "            <td>Reggae</td>\n",
       "            <td>281.9811401323749199</td>\n",
       "        </tr>\n",
       "        <tr>\n",
       "            <td>Folk, World, & Country</td>\n",
       "            <td>284.0997566909975669</td>\n",
       "        </tr>\n",
       "    </tbody>\n",
       "</table>\n",
       "<span style=\"font-style:italic;text-align:center;\">Truncated to <a href=\"https://jupysql.ploomber.io/en/latest/api/configuration.html#displaylimit\">displaylimit</a> of 10.</span>"
      ],
      "text/plain": [
       "+------------------------+----------------------+\n",
       "|         genre          |     avg_duration     |\n",
       "+------------------------+----------------------+\n",
       "|       Children's       | 200.7361111111111111 |\n",
       "|         Blues          | 232.7512562814070352 |\n",
       "|     Stage & Screen     | 235.7117437722419929 |\n",
       "|          Pop           | 254.8109141466805700 |\n",
       "|          Rock          | 264.6603242913539249 |\n",
       "|         Latin          | 266.9276169265033408 |\n",
       "|    Brass & Military    | 270.1500000000000000 |\n",
       "|        Hip Hop         | 278.2096741996827098 |\n",
       "|         Reggae         | 281.9811401323749199 |\n",
       "| Folk, World, & Country | 284.0997566909975669 |\n",
       "+------------------------+----------------------+\n",
       "Truncated to displaylimit of 10."
      ]
     },
     "execution_count": 16,
     "metadata": {},
     "output_type": "execute_result"
    }
   ],
   "source": [
    "%%sql\n",
    "SELECT releases.genre, AVG(tracks.duration) AS avg_duration\n",
    "FROM releases JOIN tracks USING(release_id)\n",
    "GROUP BY releases.genre\n",
    "ORDER BY avg_duration"
   ]
  },
  {
   "cell_type": "markdown",
   "metadata": {},
   "source": [
    "Did the results match what you expected? Copy your queries into the following python script to plot the result."
   ]
  },
  {
   "cell_type": "code",
   "execution_count": 17,
   "metadata": {},
   "outputs": [
    {
     "data": {
      "text/html": [
       "<span style=\"None\">Running query in &#x27;postgresql://postgres:***@db:5432/postgres&#x27;</span>"
      ],
      "text/plain": [
       "Running query in 'postgresql://postgres:***@db:5432/postgres'"
      ]
     },
     "metadata": {},
     "output_type": "display_data"
    },
    {
     "data": {
      "text/html": [
       "<span style=\"color: green\">15 rows affected.</span>"
      ],
      "text/plain": [
       "15 rows affected."
      ]
     },
     "metadata": {},
     "output_type": "display_data"
    },
    {
     "name": "stdout",
     "output_type": "stream",
     "text": [
      "[\"Children's\", 'Blues', 'Stage & Screen', 'Pop', 'Rock', 'Latin', 'Brass & Military', 'Hip Hop', 'Reggae', 'Folk, World, & Country', 'Funk / Soul', 'Jazz', 'Non-Music', 'Electronic', 'Classical']\n",
      "[Decimal('200.7361111111111111'), Decimal('232.7512562814070352'), Decimal('235.7117437722419929'), Decimal('254.8109141466805700'), Decimal('264.6603242913539249'), Decimal('266.9276169265033408'), Decimal('270.1500000000000000'), Decimal('278.2096741996827098'), Decimal('281.9811401323749199'), Decimal('284.0997566909975669'), Decimal('292.3742753188597017'), Decimal('299.3291493999568831'), Decimal('310.5186963112683173'), Decimal('338.7964461394944572'), Decimal('363.7217249796582587')]\n"
     ]
    },
    {
     "data": {
      "text/plain": [
       "Text(0, 0.5, 'Genre')"
      ]
     },
     "execution_count": 17,
     "metadata": {},
     "output_type": "execute_result"
    },
    {
     "data": {
      "image/png": "[encoded data removed]",
      "text/plain": [
       "<Figure size 1400x700 with 1 Axes>"
      ]
     },
     "metadata": {},
     "output_type": "display_data"
    }
   ],
   "source": [
    "%matplotlib inline\n",
    "import matplotlib.pyplot as plt\n",
    "\n",
    "# Store the result of the query in a Python object (add your query here!)\n",
    "result = %sql   SELECT releases.genre, AVG(tracks.duration) AS avg_duration \\\n",
    "                FROM releases JOIN tracks USING(release_id) \\\n",
    "                GROUP BY releases.genre \\\n",
    "                ORDER BY avg_duration ASC; \\\n",
    "\n",
    "# Convert the result to a Pandas data frame\n",
    "df = result.DataFrame()\n",
    "\n",
    "# Extract x and y values for a plot\n",
    "x = df['genre'].tolist()\n",
    "y = df['avg_duration'].tolist()\n",
    "\n",
    "# Print them just for debugging\n",
    "print(x)\n",
    "print(y)\n",
    "\n",
    "# Plot the distribution of scores\n",
    "fig = plt.figure(figsize =(14, 7))\n",
    "plt.barh(x, y, align='center')\n",
    "plt.xlabel('Average Duration (s)')\n",
    "plt.ylabel('Genre')"
   ]
  },
  {
   "cell_type": "markdown",
   "metadata": {},
   "source": [
    "## Exercise 4: Discuss query patterns and language features of SQL\n",
    "1. What patterns did you use in many of the queries above?\n",
    "\n",
    "2. Do you remember the theory behind them?\n",
    "\n",
    "3. What makes SQL a declarative language and what advantages does that have?\n",
    "\n",
    "4. What makes SQL a functional language and what advantages does that have?"
   ]
  },
  {
   "cell_type": "markdown",
   "metadata": {},
   "source": [
    "### Exercise 4: Solution\n",
    "1. Most queries consist of the following basic operations. They will reoccur throughout the whole semester. Watch out for them!\n",
    "  * **Select**: select a subset of the rows/data records/items.\n",
    "  * **Project**: select a subset of the properties/ attributes/columns.\n",
    "  * **Join**: bring two datasets together based on a common attribute.\n",
    "  * **Group**: divide the items/ rows/records into groups and summarize each group with a single value.\n",
    "  * **Order**: order the items according to some criteria.\n",
    "  \n",
    "2. Relational algebra operators formalize most of this (grouping is technically not part of the algebra).\n",
    "  \n",
    "3. We only describe *what* we want, not how this should be computed. We *declare* what our intent is. This shifts the implementation effort from the programmer to the database system. The hope is that the system has more information at hand, such as data size, data distribution, information about the hardware, in order to choose the best way to compute the result. This results into efficient computation with little effort from the programmer.\n",
    "  \n",
    "4. SQL is functional because results of a query can be used as input of another query, either in form of tables or in form of scalars. This makes SQL expressive."
   ]
  }
 ],
 "metadata": {
  "colab": {
   "name": "Exercise00_Jupyter_Basics_SQL_Example.ipynb",
   "provenance": []
  },
  "kernelspec": {
   "display_name": "Python 3 (ipykernel)",
   "language": "python",
   "name": "python3"
  },
  "language_info": {
   "codemirror_mode": {
    "name": "ipython",
    "version": 3
   },
   "file_extension": ".py",
   "mimetype": "text/x-python",
   "name": "python",
   "nbconvert_exporter": "python",
   "pygments_lexer": "ipython3",
   "version": "3.12.4"
  }
 },
 "nbformat": 4,
 "nbformat_minor": 4
}

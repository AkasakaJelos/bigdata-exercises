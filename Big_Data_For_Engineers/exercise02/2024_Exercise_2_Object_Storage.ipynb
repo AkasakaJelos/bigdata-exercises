{
 "cells": [
  {
   "cell_type": "markdown",
   "metadata": {},
   "source": [
    "# <center>Big Data for Engineers &ndash; Exercises &ndash; Solution</center>\n",
    "## <center>Spring 2024 &ndash; Week 2 &ndash; ETH Zurich</center>"
   ]
  },
  {
   "cell_type": "markdown",
   "metadata": {},
   "source": [
    "## Exercise 1: Storage devices\n",
    "\n",
    "In this exercise, we want to understand the differences between [SSD](https://en.wikipedia.org/wiki/Solid-state_drive), [HDD](https://en.wikipedia.org/wiki/Hard_disk_drive), and [SDRAM](https://en.wikipedia.org/wiki/Synchronous_dynamic_random-access_memory) in terms of __capacity__, __speed__ and __price__. \n",
    "\n",
    "### Task 1\n",
    "Fill in the table below by visiting your local online hardware store and choosing the storage device with largest capacity available but optimizing for read/write speed.\n",
    "For instance, you can visit Digitec.ch to explore the prices on [SSDs](https://www.digitec.ch/en/s1/producttype/ssd-545?tagIds=76), [HDDs](https://www.digitec.ch/en/s1/producttype/hard-drives-36?tagIds=76), and \n",
    "[SDRAMs](https://www.digitec.ch/en/s1/producttype/memory-2?tagIds=76). \n",
    "You are free to use any other website for filling the table. "
   ]
  },
  {
   "cell_type": "markdown",
   "metadata": {},
   "source": [
    "| Storage Device | Maximum capacity, GB | Price, CHF/GB  | Read speed, GB/s | Write speed, GB/s | Link |\n",
    "| --------------:| --------------------:| --------------:|-----------------:|------------------:|------|\n",
    "| HDD            |                      |                |                  |                   |&nbsp;|\n",
    "| SSD            |                      |                |                  |                   |&nbsp;|\n",
    "| DRAM           |                      |                |                  |                   |&nbsp;|\n"
   ]
  },
  {
   "cell_type": "markdown",
   "metadata": {},
   "source": [
    "### Task 2\n",
    "Answer the following questions:\n",
    "1. What type of storage devices above is the cheapest one?\n",
    "2. What type of storage devices above is the fastest in terms of read speed?"
   ]
  },
  {
   "cell_type": "markdown",
   "metadata": {},
   "source": [
    "### Solution\n",
    "$\\dots$"
   ]
  },
  {
   "cell_type": "markdown",
   "metadata": {},
   "source": [
    "## Exercise 2: HTTP"
   ]
  },
  {
   "cell_type": "markdown",
   "metadata": {},
   "source": [
    "HTTP is the underlying protocol used by the World Wide Web. It defines how messages are formatted and transmitted, and what actions Web servers and browsers should take in response to various commands.\n",
    "\n",
    "The HTTP protocol is based on requests (usually made by a client, eg: your web browser) and responses (usually made by a server hosting a particular website or application).\n",
    "\n",
    "When we visit websites, our browser is always making multitudes of HTTP requests to retrieve all the resources needed to render out webpage! If you're curious, you can try keep the 'network' tab of your  browser's 'Developer Tools' tab open while visiting several websites."
   ]
  },
  {
   "cell_type": "markdown",
   "metadata": {},
   "source": [
    "#### Example Request:\n",
    "> <font color=\"#990000\">POST</font> <font color=\"blue\">/path/index.html</font> <font color=\"#bf9000\">HTTP/1.1</font>  \n",
    "<font color=\"green\">Host: www .example.com  \n",
    "User-Agent: Mozilla/4.0</font><br>\n",
    "BookId=3131&Author=Asimov"
   ]
  },
  {
   "cell_type": "markdown",
   "metadata": {},
   "source": [
    "<font color=\"#990000\">This fragment indicates the HTTP method used</font><br>\n",
    "<font color=\"blue\">This indicate the relative path of the resource</font><br>\n",
    "<font color=\"#bf9000\">This is the HTTP version</font><br>\n",
    "<font color=\"green\">These are the headers of the request (1 per line)</font><br>\n",
    "<font>This is the body of the request</font>\n"
   ]
  },
  {
   "cell_type": "markdown",
   "metadata": {},
   "source": [
    "#### Example Response\n",
    "> <font color=\"#bf9000\">HTTP/1.1</font> <font color=\"#990000\">200 OK</font>  \n",
    "<font color=\"green\">Date: Tue, 25 Sep 2018 09:48:34 GMT  \n",
    "Content-Type: text/html; charset=UTF-8  \n",
    "Content-Length: 138  \n",
    "</font>\n",
    "&lt;html> &lt;head> &lt;title>An Example Page&lt;/title>\n",
    "&lt;/head> &lt;body> Hello World, this is a very simple\n",
    "HTML document. &lt;/body> &lt;/html>"
   ]
  },
  {
   "cell_type": "markdown",
   "metadata": {},
   "source": [
    "<font color=\"#990000\">This fragment indicates the status code of the response</font><br>\n",
    "<font color=\"#bf9000\">This is the HTTP version</font><br>\n",
    "<font color=\"green\">These are the headers of the response (1 per line)</font><br>\n",
    "<font>This is the body of the response</font>"
   ]
  },
  {
   "cell_type": "markdown",
   "metadata": {},
   "source": [
    "### HTTP Methods\n",
    "\n",
    "Consider a well-designed object storage service providing a REST API implemented over HTTP.\n",
    "\n",
    "1. Which HTTP method allows the retrieval of objects on the server? What do we mean by saying that it should be side-effect free?  \n",
    "2. Which HTTP methods allow the insertion and deletion of objects from the server, respectively?\n",
    "3. Which other generic method allows for sending information and/or receiving results?"
   ]
  },
  {
   "cell_type": "markdown",
   "metadata": {},
   "source": [
    "### Solution\n",
    "\n",
    "$\\dots$"
   ]
  },
  {
   "cell_type": "markdown",
   "metadata": {},
   "source": [
    "## Exercise 3: Storage"
   ]
  },
  {
   "cell_type": "markdown",
   "metadata": {},
   "source": [
    "### Object Storage, Scalability\n",
    "\n",
    "1. What are the four most important traits of Object Storage that allows scalability? \n",
    "2. What are the two ways through which you can scale beyond one machine?"
   ]
  },
  {
   "cell_type": "markdown",
   "metadata": {},
   "source": [
    "#### Solution\n",
    "$\\dots$"
   ]
  },
  {
   "cell_type": "markdown",
   "metadata": {},
   "source": [
    "### Azure Blob Storage vs Amazon S3\n",
    "\n",
    "For each question give the answer for both: Azure Blob Storage and Amazon S3\n",
    "\n",
    "1. How are objects identified?\n",
    "2. What kind of objects can you create?"
   ]
  },
  {
   "cell_type": "markdown",
   "metadata": {},
   "source": [
    "#### Solution\n",
    "$\\dots$"
   ]
  }
 ],
 "metadata": {
  "kernelspec": {
   "display_name": "Python 3 (ipykernel)",
   "language": "python",
   "name": "python3"
  },
  "language_info": {
   "codemirror_mode": {
    "name": "ipython",
    "version": 3
   },
   "file_extension": ".py",
   "mimetype": "text/x-python",
   "name": "python",
   "nbconvert_exporter": "python",
   "pygments_lexer": "ipython3",
   "version": "3.7.3"
  },
  "vscode": {
   "interpreter": {
    "hash": "31f2aee4e71d21fbe5cf8b01ff0e069b9275f58929596ceb00d14d90e3e16cd6"
   }
  }
 },
 "nbformat": 4,
 "nbformat_minor": 4
}

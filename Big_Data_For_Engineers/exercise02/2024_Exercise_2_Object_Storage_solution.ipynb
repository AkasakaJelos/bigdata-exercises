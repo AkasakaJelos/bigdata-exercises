{
 "cells": [
  {
   "cell_type": "markdown",
   "metadata": {},
   "source": [
    "# <center>Big Data for Engineers &ndash; Exercises &ndash; Solution</center>\n",
    "## <center>Spring 2024 &ndash; Week 2 &ndash; ETH Zurich</center>"
   ]
  },
  {
   "cell_type": "markdown",
   "metadata": {},
   "source": [
    "## Exercise 1: Storage devices\n",
    "\n",
    "In this exercise, we want to understand the differences between [SSD](https://en.wikipedia.org/wiki/Solid-state_drive), [HDD](https://en.wikipedia.org/wiki/Hard_disk_drive), and [SDRAM](https://en.wikipedia.org/wiki/Synchronous_dynamic_random-access_memory) in terms of __capacity__, __speed__ and __price__. \n",
    "\n",
    "### Task 1\n",
    "Fill in the table below by visiting your local online hardware store and choosing the storage device with largest capacity available but optimizing for read/write speed.\n",
    "For instance, you can visit Digitec.ch to explore the prices on [SSDs](https://www.digitec.ch/en/s1/producttype/ssd-545?tagIds=76), [HDDs](https://www.digitec.ch/en/s1/producttype/hard-drives-36?tagIds=76), and \n",
    "[SDRAMs](https://www.digitec.ch/en/s1/producttype/memory-2?tagIds=76). \n",
    "You are free to use any other website for filling the table. "
   ]
  },
  {
   "cell_type": "markdown",
   "metadata": {},
   "source": [
    "| Storage Device | Maximum capacity, GB | Price, CHF/GB  | Read speed, GB/s | Write speed, GB/s | Link |\n",
    "| --------------:| --------------------:| --------------:|-----------------:|------------------:|------|\n",
    "| HDD            |                      |                |                  |                   |&nbsp;|\n",
    "| SSD            |                      |                |                  |                   |&nbsp;|\n",
    "| DRAM           |                      |                |                  |                   |&nbsp;|\n"
   ]
  },
  {
   "cell_type": "markdown",
   "metadata": {},
   "source": [
    "### Task 2\n",
    "Answer the following questions:\n",
    "1. What type of storage devices above is the cheapest one?\n",
    "2. What type of storage devices above is the fastest in terms of read speed?"
   ]
  },
  {
   "cell_type": "markdown",
   "metadata": {},
   "source": [
    "### Solution\n",
    "Looking at digitec.ch, we complete the table as follows:\n",
    "\n",
    "| Storage Device | Maximum capacity, GB | Price, CHF/GB  | Read speed, GB/s | Write speed, GB/s | Link |\n",
    "| --------------:| --------------------:| --------------:|-----------------:|------------------:|------|\n",
    "| HDD            |      20000 (20 TB).  | 0.02345 CHF/GB |        0.29 GB/s |         0.29 GB/s |[Link](https://www.digitec.ch/en/s1/product/seagate-ironwolf-pro-20-tb-35-cmr-hard-drives-17728311?supplier=406802)|\n",
    "| SSD            |      30720 (30.7 TB) |   0.232 CHF/GB |         2.1 GB/s |          1.7 GB/s |[Link](https://www.digitec.ch/en/s1/product/samsung-enterprise-pm1643-30720-gb-25-ssd-10110860?supplier=406802)|\n",
    "| DRAM           |              128GB** |   7.109 CHF/GB |        ~60 GB/s* |         ~48 GB/s* |[Link](https://www.digitec.ch/en/s1/product/kingston-ddr4-3200mhz-lrdimm-quad-rank-module-1-x-128gb-lr-dimm-memory-17550606?supplier=406802)|\n",
    "\n",
    "*RAM speeds are usually not measured in GB/s, but rather MT/s (Megatransfers per second). Actual data transfer speeds in GB/s depend also on the CPU/Motherboard and are usually empirical rather than by specification.\n",
    "\n",
    "**The new DDR-5 standard offers much faster speeds but are still limited to 32 GB capacity of a single stick.\n",
    "\n",
    "1. HDDs are the cheapest storage device among mentioned devices\n",
    "2. DRAMs are the fastest storage device among mentioned devices "
   ]
  },
  {
   "cell_type": "markdown",
   "metadata": {},
   "source": [
    "## Exercise 2: HTTP"
   ]
  },
  {
   "cell_type": "markdown",
   "metadata": {},
   "source": [
    "HTTP is the underlying protocol used by the World Wide Web. It defines how messages are formatted and transmitted, and what actions Web servers and browsers should take in response to various commands.\n",
    "\n",
    "The HTTP protocol is based on requests (usually made by a client, eg: your web browser) and responses (usually made by a server hosting a particular website or application).\n",
    "\n",
    "When we visit websites, our browser is always making multitudes of HTTP requests to retrieve all the resources needed to render out webpage! If you're curious, you can try keep the 'network' tab of your  browser's 'Developer Tools' tab open while visiting several websites."
   ]
  },
  {
   "cell_type": "markdown",
   "metadata": {},
   "source": [
    "#### Example Request:\n",
    "> <font color=\"#990000\">POST</font> <font color=\"blue\">/path/index.html</font> <font color=\"#bf9000\">HTTP/1.1</font>  \n",
    "<font color=\"green\">Host: www .example.com  \n",
    "User-Agent: Mozilla/4.0</font><br>\n",
    "BookId=3131&Author=Asimov"
   ]
  },
  {
   "cell_type": "markdown",
   "metadata": {},
   "source": [
    "<font color=\"#990000\">This fragment indicates the HTTP method used</font><br>\n",
    "<font color=\"blue\">This indicate the relative path of the resource</font><br>\n",
    "<font color=\"#bf9000\">This is the HTTP version</font><br>\n",
    "<font color=\"green\">These are the headers of the request (1 per line)</font><br>\n",
    "<font>This is the body of the request</font>\n"
   ]
  },
  {
   "cell_type": "markdown",
   "metadata": {},
   "source": [
    "#### Example Response\n",
    "> <font color=\"#bf9000\">HTTP/1.1</font> <font color=\"#990000\">200 OK</font>  \n",
    "<font color=\"green\">Date: Tue, 25 Sep 2018 09:48:34 GMT  \n",
    "Content-Type: text/html; charset=UTF-8  \n",
    "Content-Length: 138  \n",
    "</font>\n",
    "&lt;html> &lt;head> &lt;title>An Example Page&lt;/title>\n",
    "&lt;/head> &lt;body> Hello World, this is a very simple\n",
    "HTML document. &lt;/body> &lt;/html>"
   ]
  },
  {
   "cell_type": "markdown",
   "metadata": {},
   "source": [
    "<font color=\"#990000\">This fragment indicates the status code of the response</font><br>\n",
    "<font color=\"#bf9000\">This is the HTTP version</font><br>\n",
    "<font color=\"green\">These are the headers of the response (1 per line)</font><br>\n",
    "<font>This is the body of the response</font>"
   ]
  },
  {
   "cell_type": "markdown",
   "metadata": {},
   "source": [
    "### HTTP Methods\n",
    "\n",
    "Consider a well-designed object storage service providing a REST API implemented over HTTP.\n",
    "\n",
    "1. Which HTTP method allows the retrieval of objects on the server? What do we mean by saying that it should be side-effect free?  \n",
    "2. Which HTTP methods allow the insertion and deletion of objects from the server, respectively?\n",
    "3. Which other generic method allows for sending information and/or receiving results?"
   ]
  },
  {
   "cell_type": "markdown",
   "metadata": {},
   "source": [
    "### Solution\n",
    "\n",
    "1. GET. This means that it should cause no modifications on the server.\n",
    "2. PUT, DELETE\n",
    "3. POST"
   ]
  },
  {
   "cell_type": "markdown",
   "metadata": {},
   "source": [
    "## Exercise 3: Storage"
   ]
  },
  {
   "cell_type": "markdown",
   "metadata": {},
   "source": [
    "### Object Storage, Scalability\n",
    "\n",
    "1. What are the four most important traits of Object Storage that allows scalability? \n",
    "2. What are the two ways through which you can scale beyond one machine?"
   ]
  },
  {
   "cell_type": "markdown",
   "metadata": {},
   "source": [
    "#### Solution\n",
    "1. Black box objects, key-value model, flexible metadata, commodity hardware.\n",
    "2. Horizontal scalability (more nodes); vertical scalability (more powerful nodes)"
   ]
  },
  {
   "cell_type": "markdown",
   "metadata": {},
   "source": [
    "### Azure Blob Storage vs Amazon S3\n",
    "\n",
    "For each question give the answer for both: Azure Blob Storage and Amazon S3\n",
    "\n",
    "1. How are objects identified?\n",
    "2. What kind of objects can you create?"
   ]
  },
  {
   "cell_type": "markdown",
   "metadata": {},
   "source": [
    "#### Solution\n",
    "* Azure\n",
    "    1. Account ID + Container ID + Blob ID\n",
    "    2. 3 types of blobs: BlockBlob, PageBlob, AppendBlob\n",
    "* S3\n",
    "    1. Bucket ID + Object ID\n",
    "    2. Blackbox objects"
   ]
  }
 ],
 "metadata": {
  "kernelspec": {
   "display_name": "Python 3 (ipykernel)",
   "language": "python",
   "name": "python3"
  },
  "language_info": {
   "codemirror_mode": {
    "name": "ipython",
    "version": 3
   },
   "file_extension": ".py",
   "mimetype": "text/x-python",
   "name": "python",
   "nbconvert_exporter": "python",
   "pygments_lexer": "ipython3",
   "version": "3.7.3"
  },
  "vscode": {
   "interpreter": {
    "hash": "31f2aee4e71d21fbe5cf8b01ff0e069b9275f58929596ceb00d14d90e3e16cd6"
   }
  }
 },
 "nbformat": 4,
 "nbformat_minor": 4
}

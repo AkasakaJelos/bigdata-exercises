{
 "cells": [
  {
   "cell_type": "markdown",
   "metadata": {},
   "source": [
    "# <center>Big Data for Engineers &ndash; Exercises  </center>\n",
    "## <center>Spring 2025 &ndash; Week 2 &ndash; ETH Zurich</center>"
   ]
  },
  {
   "cell_type": "markdown",
   "metadata": {},
   "source": [
    "## Exercise 1: Storage devices\n",
    "\n",
    "In this exercise, we want to understand the differences between [SSD](https://en.wikipedia.org/wiki/Solid-state_drive), [HDD](https://en.wikipedia.org/wiki/Hard_disk_drive), and [SDRAM](https://en.wikipedia.org/wiki/Synchronous_dynamic_random-access_memory) in terms of __capacity__, __speed__ and __price__. \n",
    "\n",
    "Order the following storage device types: `HDD`, &nbsp;`SSD`, &nbsp;`SDRAM` :\n",
    "\n",
    "- From cheapset to most expensive: &nbsp; _____ &nbsp; &nbsp; _____ &nbsp; &nbsp; _____\n",
    "\n",
    "- From slowest to fastest (in terms of read/write speed): &nbsp; _____ &nbsp; &nbsp; _____ &nbsp; &nbsp; _____\n",
    "\n",
    "- By their capacity in increasing order: &nbsp; _____ &nbsp; &nbsp; _____ &nbsp; &nbsp; _____"
   ]
  },
  {
   "cell_type": "markdown",
   "metadata": {},
   "source": [
    "## Exercise 2: HTTP Request and Response\n",
    "\n",
    "HTTP is the foundational protocol of the World Wide Web. It defines how messages are formatted and transmitted, as well as what actions web servers and browsers should take in response to various commands.\n",
    "\n",
    "At its core, HTTP works through:\n",
    "- **Requests**, made by a client (for example your web browser).\n",
    "- **Responses**, sent by a server hosting a particular website or application.\n",
    "\n",
    "Whenever you visit a webpage, your browser sends multiple HTTP requests to retrieve the resources needed to render that page. For more details on how HTTP works, you can explore [this webiste](https://developer.mozilla.org/en-US/docs/Web/HTTP/Overview).\n",
    "\n",
    "<br>\n",
    "\n",
    "Below is an example of an HTTP request. Each part of the request has been highlighted in a different color. Your task is to fill in the blanks by choosing from the following terms: `headers`, &nbsp;`body`, &nbsp;`resource path`, &nbsp;`version`, &nbsp;`method`\n",
    "\n",
    "> <font color=\"#990000\">POST</font> <font color=\"blue\">/path/index.html</font> <font color=\"#bf9000\">HTTP/1.1</font>  \n",
    "<font color=\"green\">Host: www .example.com  \n",
    "User-Agent: Mozilla/4.0</font><br>\n",
    "BookId=3131&Author=Asimov\n",
    "\n",
    "<font color=\"#990000\">This indicates the HTTP _____  used</font><br>\n",
    "<font color=\"blue\">This indicate the  _____  </font><br>\n",
    "<font color=\"#bf9000\">This is the  HTTP _____  </font><br>\n",
    "<font color=\"green\">These are the  _____  of the request (1 per line)</font><br>\n",
    "<font>This is the  _____  of the request</font>\n",
    "\n",
    "<br>\n",
    "\n",
    "Below is an example of an HTTP response. Each part of the response has been highlighted in a different color. Your task is to fill in the blanks by choosing from the following terms: `status code`, &nbsp;`body`, &nbsp;`version`, &nbsp;`headers`\n",
    "\n",
    "> <font color=\"#bf9000\">HTTP/1.1</font> <font color=\"#990000\">200 OK</font>  \n",
    "<font color=\"green\">Date: Tue, 10 Feb 2025 09:48:34 GMT  \n",
    "Content-Type: text/html; charset=UTF-8  \n",
    "Content-Length: 138  \n",
    "</font>\n",
    "&lt;html> &lt;head> &lt;title>An Example Page&lt;/title>\n",
    "&lt;/head> &lt;body> Hello World, this is a very simple\n",
    "HTML document. &lt;/body> &lt;/html>\n",
    "\n",
    "<font color=\"#990000\">This indicates the  _____  of the response</font><br>\n",
    "<font color=\"#bf9000\">This is the HTTP  _____  </font><br>\n",
    "<font color=\"green\">These are the  _____  of the response (1 per line)</font><br>\n",
    "<font>This is the _____ of the response</font>"
   ]
  },
  {
   "cell_type": "markdown",
   "metadata": {},
   "source": [
    "### Exercise 3: Safe and Indempotent HTTP methods\n",
    "\n",
    "HTTP methods are crucial in RESTful APIs and typically correspond to the main CRUD operations:\n",
    "  - **GET** is used to *retrieve* a resource (Read).\n",
    "  - **POST** is used to *create* a new resource (Create).\n",
    "  - **PUT** is used to *update* an existing resource (Update).\n",
    "  - **DELETE** is used to *remove* a resource (Delete).\n",
    "\n",
    "<br>\n",
    "\n",
    "- **Safe Methods**: An HTTP method is considered *safe* if the action it performs is read-only and does not modify the resource on the server. Making a \"safe\" request should not cause any side effects on the server data.\n",
    "\n",
    "- **Idempotent Methods**: An HTTP method is *idempotent* if multiple **identical** requests in a row produce the same effect on the server as a single request would. In other words, sending the same request once or multiple times should give the same end result on the server state.\n",
    "\n",
    "Complete the table below by indicating with **Yes** or **No** whether each method is **Idempotent** and/or **Safe**\n",
    "\n",
    "| HTTP Method | Idempotent | Safe |\n",
    "|-------------|-------------|-------|\n",
    "| GET         | ?           | ?     |\n",
    "| POST        | ?           | ?     |\n",
    "| PUT         | ?           | ?     |\n",
    "| DELETE      | ?           | ?     |"
   ]
  },
  {
   "cell_type": "markdown",
   "metadata": {},
   "source": [
    "## Exercise 4: Service Level Agreements (SLA)\n",
    "\n",
    "Below is a scenario involving a cloud service provider that offers a monthly SLA of 99.95% availability over a standard 30-day billing cycle. Use the details of the scenario to answer the following questions.\n",
    "\n",
    "#### Scenario:\n",
    "- **Target SLA**: 99.95% availability each 30-day billing cycle.\n",
    "- **Definition of Availability**: The service is considered \"available\" as long as end users can connect and use its core functionality. Any time the service is unreachable or non-functional is considered downtime.\n",
    "- **Downtime Events** this month:\n",
    "  1. Outage 1: 1 hour 20 minutes  \n",
    "  2. Outage 2: 50 minutes  \n",
    "\n",
    "### **Question 4.1**  \n",
    "Given a 30-day month and a target availability of 99.95%, how many minutes of downtime are allowed in a 30-day cycle to still meet the SLA?\n",
    "\n",
    "> *Your Answer:*  \n",
    "> \\_\\_\\_\\_\\_\\_\n",
    "\n",
    "### **Questions 4.2**  \n",
    "Calculate the total unplanned downtime (in minutes) from both outages:  \n",
    "\n",
    "- Outage 1: 1 hour 20 minutes  \n",
    "- Outage 2: 50 minutes  \n",
    "\n",
    "> *Your Answer:*  \n",
    "> \\_\\_\\_\\_\\_\\_\n",
    "\n",
    "\n",
    "### **Question 4.3**  \n",
    "Compare your result from **Exercise 2** with the allowed downtime from **Exercise 1**.  \n",
    "- If total downtime is within the allowed limit, the service  meets  the SLA.  \n",
    "- If total downtime exceeds the allowed limit, the service fails the SLA.\n",
    "\n",
    "Does the service meet or fail the 99.95% SLA this month?\n",
    "\n",
    "> A) Meets the SLA  \n",
    "> B) Fails the SLA  \n",
    "\n",
    "> *Your Answer:*  \n",
    "> \\_\\_\\_\\_\\_\\_\n"
   ]
  }
 ],
 "metadata": {
  "kernelspec": {
   "display_name": "Python 3 (ipykernel)",
   "language": "python",
   "name": "python3"
  },
  "language_info": {
   "codemirror_mode": {
    "name": "ipython",
    "version": 3
   },
   "file_extension": ".py",
   "mimetype": "text/x-python",
   "name": "python",
   "nbconvert_exporter": "python",
   "pygments_lexer": "ipython3",
   "version": "3.7.3"
  },
  "vscode": {
   "interpreter": {
    "hash": "31f2aee4e71d21fbe5cf8b01ff0e069b9275f58929596ceb00d14d90e3e16cd6"
   }
  }
 },
 "nbformat": 4,
 "nbformat_minor": 4
}

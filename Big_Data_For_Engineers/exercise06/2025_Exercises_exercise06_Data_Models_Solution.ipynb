{
 "cells": [
  {
   "cell_type": "markdown",
   "metadata": {
    "id": "-3Hiw9Ye_st0"
   },
   "source": [
    "# <center>Big Data for Engineers &ndash; Solutions</center>\n",
    "## <center>Spring 2025 &ndash; Week 6 &ndash; ETH Zurich</center>\n",
    "## <center>Data Models</center>\n"
   ]
  },
  {
   "cell_type": "markdown",
   "metadata": {
    "id": "-aEMaRO3AD_2"
   },
   "source": [
    "## 1. XML Data Models &ndash; Information Sets"
   ]
  },
  {
   "cell_type": "markdown",
   "metadata": {
    "id": "JzOzy8DIAQD7"
   },
   "source": [
    "XML \"Information Set\" provides an abstract representation of an XML document—it can be thought of as a set of rules on how one would draw an XML document on a whiteboard.\n",
    "\n",
    "An XML document has an information set if it is well-formed and satisfies the namespace constraints. There is no requirement for an XML document to be valid in order to have an information set. An information set can contain up to eleven different types of information items, e.g., the document information item (always present), element information items, attribute information item, etc.\n",
    "\n",
    "Draw the Information Set trees for the following XML documents. You can confine your trees to only have the following types of information items: *document information item, elements, text information items, and attributes.*"
   ]
  },
  {
   "cell_type": "markdown",
   "metadata": {
    "id": "mnY987HhBro1"
   },
   "source": [
    "#### Document 1\n",
    "\n",
    "```xml\n",
    "<Burger>\n",
    "    <Bun>\n",
    "        <Pickles/>\n",
    "        <Cheese origin=\"Switzerland\" />\n",
    "        <Patty/>\n",
    "    </Bun>\n",
    "</Burger>\n",
    "```"
   ]
  },
  {
   "cell_type": "markdown",
   "metadata": {
    "id": "m9lD55sL4KYj"
   },
   "source": [
    "#### Solution \n",
    "![](https://polybox.ethz.ch/index.php/s/dMUBGeHO8IWtIOh/download)"
   ]
  },
  {
   "cell_type": "markdown",
   "metadata": {
    "id": "oYWueJEfBu8g"
   },
   "source": [
    "#### Document 2\n",
    "```xml\n",
    "<catalog>\n",
    "   <!-- A list of books -->\n",
    "   <book id='bk101'>\n",
    "      <author>Gambardella, Matthew</author>\n",
    "      <title>XML Developer's Guide</title>\n",
    "      <genre>Computer</genre>\n",
    "      <price>44.95</price>\n",
    "      <publish_date version='hard' version2='soft'>2000-10-01</publish_date>\n",
    "   </book>\n",
    "</catalog>\n",
    "```"
   ]
  },
  {
   "cell_type": "markdown",
   "metadata": {
    "id": "mqDVCMWc39Op"
   },
   "source": [
    "#### Solution\n",
    "\n",
    "![](https://polybox.ethz.ch/index.php/s/Os1Wb9zDakKNZN2/download)"
   ]
  },
  {
   "cell_type": "markdown",
   "metadata": {
    "id": "E9ZSNlOeByeH"
   },
   "source": [
    "#### Document 3\n",
    "\n",
    "```xml\n",
    "<eth date=\"11.11.2006\">\n",
    "   <date>16.11.2017</date>\n",
    "   <president since=\"2020\">Prof. Dr. Joël Mesot</president>\n",
    "   <rector>Prof. Dr. Sarah M. Springman</rector>\n",
    "</eth>\n",
    "```\n"
   ]
  },
  {
   "cell_type": "markdown",
   "metadata": {
    "id": "q01UJHNh4V1D"
   },
   "source": [
    "**Solution**\n",
    "\n",
    "\n",
    "![](https://polybox.ethz.ch/index.php/s/MdNaxeyX17EJfR0/download)"
   ]
  },
  {
   "cell_type": "markdown",
   "metadata": {
    "id": "4kmEkgE2DMu4"
   },
   "source": [
    "## 2. XML Schemas"
   ]
  },
  {
   "cell_type": "markdown",
   "metadata": {
    "id": "G2rjOLWVDqTI"
   },
   "source": [
    "In this task we will explore XML Schemas in detail. An XML Schema describes the structure of an XML document.\n",
    "\n",
    "The purpose of an XML Schema is to define the legal building blocks of an XML document:\n",
    "* the elements and attributes that can appear in a document\n",
    "* the number of (and order of) child elements\n",
    "* data types for elements and attributes\n",
    "* default and fixed values for elements and attributes"
   ]
  },
  {
   "cell_type": "markdown",
   "metadata": {
    "id": "qmTl-DYfDx8K"
   },
   "source": [
    "When you open an XML Schema in oXygen, you can switch to its graphical representation, by choosing the \"Design\" mode at the bottom of the document pane; \"Text\" mode shows the XML Schema as an XML document.\n",
    "\n",
    "\n",
    "To test XML validation, you can either use oXygen (recommended) or an online validator [like this one](https://www.freeformatter.com/xml-validator-xsd.html)."
   ]
  },
  {
   "cell_type": "markdown",
   "metadata": {
    "id": "FRi5p54hD_JH"
   },
   "source": [
    "### 2.1\n",
    "Match the following XML documents to XML Schemas that will validate them (multiple schemas are possible). **First match them manually, then validate with oXygen**.\n",
    "\n",
    "\n",
    "#### Document 1\n",
    "```xml\n",
    "<happiness xmlns:xsi=\"http://www.w3.org/2001/XMLSchema-instance\"\n",
    "     xsi:noNamespaceSchemaLocation=\"Schema.xsd\"/>\n",
    "```\n",
    "\n",
    "#### Document 2\n",
    "```xml\n",
    "<happiness xmlns:xsi=\"http://www.w3.org/2001/XMLSchema-instance\"\n",
    "     xsi:noNamespaceSchemaLocation=\"Schema.xsd\">\n",
    "    <health/>\n",
    "    <friends/>\n",
    "    <family/>\n",
    "</happiness>\n",
    "```\n",
    "\n",
    "#### Document 3\n",
    "```xml\n",
    "<happiness xmlns:xsi=\"http://www.w3.org/2001/XMLSchema-instance\"\n",
    "     xsi:noNamespaceSchemaLocation=\"Schema.xsd\">\n",
    "    3.141562\n",
    "</happiness>\n",
    "```\n",
    "\n",
    "#### Document 4\n",
    "```xml\n",
    "<happiness xmlns:xsi=\"http://www.w3.org/2001/XMLSchema-instance\"\n",
    "     xsi:noNamespaceSchemaLocation=\"Schema.xsd\">\n",
    "    <health value=\"100\"/>\n",
    "    <friends/>\n",
    "    <family/>\n",
    "</happiness>\n",
    "```\n",
    "\n",
    "#### Document 5\n",
    "```xml\n",
    "<happiness xmlns:xsi=\"http://www.w3.org/2001/XMLSchema-instance\"\n",
    "     xsi:noNamespaceSchemaLocation=\"Schema.xsd\">\n",
    "    <health/>\n",
    "    <friends/>\n",
    "    <family/>\n",
    "    But perhaps everybody defines it differently...\n",
    "</happiness>\n",
    "```\n",
    "\n",
    "______\n",
    "\n",
    "\n",
    "#### Schema 1\n",
    "```xml\n",
    "<xs:schema xmlns:xs=\"http://www.w3.org/2001/XMLSchema\">\n",
    "    <xs:element name=\"happiness\">\n",
    "        <xs:complexType>\n",
    "            <xs:sequence>\n",
    "                <xs:element name=\"health\"/>\n",
    "                <xs:element name=\"friends\"/>\n",
    "                <xs:element name=\"family\"/>\n",
    "            </xs:sequence>\n",
    "        </xs:complexType>\n",
    "    </xs:element>\n",
    "</xs:schema>\n",
    "```\n",
    "\n",
    "#### Schema 2\n",
    "```xml\n",
    "<xs:schema xmlns:xs=\"http://www.w3.org/2001/XMLSchema\">\n",
    "    <xs:element name=\"happiness\">\n",
    "        <xs:complexType mixed=\"true\">\n",
    "            <xs:sequence>\n",
    "                <xs:element name=\"health\"/>\n",
    "                <xs:element name=\"friends\"/>\n",
    "                <xs:element name=\"family\"/>\n",
    "            </xs:sequence>\n",
    "        </xs:complexType>\n",
    "    </xs:element>\n",
    "</xs:schema>\n",
    "```\n",
    "\n",
    "#### Schema 3\n",
    "```xml\n",
    "<xs:schema xmlns:xs=\"http://www.w3.org/2001/XMLSchema\">\n",
    "    <xs:element name=\"happiness\" type=\"xs:decimal\"/>\n",
    "</xs:schema>\n",
    "```\n",
    "\n",
    "#### Schema 4\n",
    "```xml\n",
    "<xs:schema xmlns:xs=\"http://www.w3.org/2001/XMLSchema\">\n",
    "    <xs:element name=\"happiness\">\n",
    "        <xs:complexType>\n",
    "            <xs:sequence/>\n",
    "        </xs:complexType>\n",
    "    </xs:element>\n",
    "</xs:schema>\n",
    "```\n",
    "\n",
    "#### Schema 5\n",
    "```xml\n",
    "<xs:schema xmlns:xs=\"http://www.w3.org/2001/XMLSchema\">\n",
    "    <xs:element name=\"happiness\">\n",
    "        <xs:complexType>\n",
    "            <xs:sequence>\n",
    "                <xs:element name=\"health\">\n",
    "                    <xs:complexType>\n",
    "                        <xs:attribute name=\"value\" type=\"xs:integer\" use=\"required\"/>\n",
    "                    </xs:complexType>\n",
    "                </xs:element>\n",
    "                <xs:element name=\"friends\"/>\n",
    "                <xs:element name=\"family\"/>\n",
    "            </xs:sequence>\n",
    "        </xs:complexType>\n",
    "    </xs:element>\n",
    "</xs:schema>\n",
    "```"
   ]
  },
  {
   "cell_type": "markdown",
   "metadata": {
    "id": "yTlv1lAvGOWG"
   },
   "source": [
    "### Solution \n",
    "*  Document 1 – Schema 4\n",
    "*  Document 2 – Schema 1 and Schema 2\n",
    "*  Document 3 – Schema 3\n",
    "*  Document 4 – Schema 1, Schema 2, and Schema 5\n",
    "*  Document 5 – Schema 2"
   ]
  },
  {
   "cell_type": "markdown",
   "metadata": {},
   "source": [
    "### 2.2 "
   ]
  },
  {
   "cell_type": "markdown",
   "metadata": {},
   "source": [
    "The following XML document is a hypothetical XML representation of a message thread in a slack-like message group. _Disclaimer: The events depicted in this document are fictitious. Any similarity to actual events or persons, living or dead, is purely coincidental._\n",
    "\n",
    "Provide an XML Schema which will validate this document:\n",
    "\n",
    "```xml\n",
    "<?xml version=\"1.0\" encoding=\"UTF-8\"?>\n",
    "\n",
    "<thread channel=\"IT Help\">\n",
    "    <message>\n",
    "        <author>@jdean</author>\n",
    "        <timestamp>2022-03-12T02:56:23.2</timestamp>\n",
    "        <body>\n",
    "            Hi, I tried running docker-compose up on this weeks exercise but \n",
    "            then somebody immediately stole my laptop.\n",
    "        </body>\n",
    "    </message>\n",
    "    <replies>\n",
    "        <message>\n",
    "            <author>@sghemawat</author>\n",
    "            <timestamp>2022-03-25T08:32:10.8</timestamp>\n",
    "            <body>Could you please post your docker logs?</body>\n",
    "        </message>\n",
    "        <message>\n",
    "            <author>@jdean</author>\n",
    "            <timestamp>2022-03-25T08:36:16.8</timestamp>\n",
    "            <body>Hi, I fixed it by restarting my docker container.</body>\n",
    "        </message>\n",
    "    </replies>\n",
    "</thread>\n",
    "```"
   ]
  },
  {
   "cell_type": "markdown",
   "metadata": {},
   "source": [
    "### Solution\n",
    "An example XML schema that would validate the above document is:\n",
    "\n",
    "```xml\n",
    "<?xml version=\"1.0\" encoding=\"UTF-8\"?>\n",
    "<xs:schema xmlns:xs=\"http://www.w3.org/2001/XMLSchema\" elementFormDefault=\"qualified\">\n",
    "    <xs:element name=\"thread\">\n",
    "        <xs:complexType>\n",
    "            <xs:sequence minOccurs=\"1\" maxOccurs=\"1\">\n",
    "                <xs:element name=\"message\">\n",
    "                    <xs:complexType>\n",
    "                        <xs:sequence minOccurs=\"1\" maxOccurs=\"1\">\n",
    "                            <xs:element name=\"author\" type=\"xs:string\"/>\n",
    "                            <xs:element name=\"timestamp\" type=\"xs:dateTime\"/>\n",
    "                            <xs:element name=\"body\" type=\"xs:string\"/>\n",
    "                        </xs:sequence>\n",
    "                    </xs:complexType>\n",
    "                </xs:element>\n",
    "                <xs:element name=\"replies\">\n",
    "                    <xs:complexType>\n",
    "                        <xs:sequence minOccurs=\"0\" maxOccurs=\"unbounded\">\n",
    "                            <xs:element name=\"message\">\n",
    "                                <xs:complexType>\n",
    "                                    <xs:sequence minOccurs=\"1\" maxOccurs=\"1\">\n",
    "                                        <xs:element name=\"author\" type=\"xs:string\"/>\n",
    "                                        <xs:element name=\"timestamp\" type=\"xs:dateTime\"/>\n",
    "                                        <xs:element name=\"body\" type=\"xs:string\"/>\n",
    "                                    </xs:sequence>\n",
    "                                </xs:complexType>\n",
    "                            </xs:element>\n",
    "                        </xs:sequence>\n",
    "                    </xs:complexType>\n",
    "                </xs:element>\n",
    "            </xs:sequence>\n",
    "            <xs:attribute name=\"channel\" type=\"xs:string\"/>\n",
    "        </xs:complexType>\n",
    "    </xs:element>\n",
    "</xs:schema>\n",
    "```\n",
    "\n",
    "Also, the root element of the document needs to be changed as follows to point to the schema:\n",
    "```xml\n",
    "<thread xmlns:xsi=\"http://www.w3.org/2001/XMLSchema-instance\" \n",
    "    xsi:noNamespaceSchemaLocation=\"Messages.xsd\" channel=\"IT Help\">\n",
    "```"
   ]
  },
  {
   "cell_type": "markdown",
   "metadata": {},
   "source": [
    "**Bonus:** If you prefer to not repeat yourself, in an XML schema you can also declare named custom types and use them in your element declarations. For example the following schema would also validate the document:\n",
    "\n",
    "```xml\n",
    "<?xml version=\"1.0\" encoding=\"UTF-8\"?>\n",
    "<xs:schema xmlns:xs=\"http://www.w3.org/2001/XMLSchema\" elementFormDefault=\"qualified\">\n",
    "    <!-- Declare Custom Types -->\n",
    "    <xs:complexType name=\"message\">\n",
    "        <xs:sequence minOccurs=\"1\" maxOccurs=\"1\">\n",
    "            <xs:element name=\"author\" type=\"xs:string\"/>\n",
    "            <xs:element name=\"timestamp\" type=\"xs:dateTime\"/>\n",
    "            <xs:element name=\"body\" type=\"xs:string\"/>\n",
    "        </xs:sequence>\n",
    "    </xs:complexType>\n",
    "    \n",
    "    <!-- Schema -->\n",
    "    <xs:element name=\"thread\">\n",
    "        <xs:complexType>\n",
    "            <xs:sequence minOccurs=\"1\" maxOccurs=\"1\">\n",
    "                <xs:element name=\"message\" type=\"message\"/>\n",
    "                <xs:element name=\"replies\">\n",
    "                    <xs:complexType>\n",
    "                        <xs:sequence minOccurs=\"0\" maxOccurs=\"unbounded\">\n",
    "                            <xs:element name=\"message\" type=\"message\"/>\n",
    "                        </xs:sequence>\n",
    "                    </xs:complexType>\n",
    "                </xs:element>\n",
    "            </xs:sequence>\n",
    "            <xs:attribute name=\"channel\" type=\"xs:string\"/>\n",
    "        </xs:complexType>\n",
    "    </xs:element>\n",
    "</xs:schema>\n",
    "```"
   ]
  },
  {
   "cell_type": "markdown",
   "metadata": {
    "id": "HKF49jDCxMR4"
   },
   "source": [
    "## 3. JSON Schemas"
   ]
  },
  {
   "cell_type": "markdown",
   "metadata": {
    "id": "LJB4O19ZMFmW"
   },
   "source": [
    "JSON Schema is a vocabulary that allows you to annotate and validate JSON documents. It is used to:\n",
    "* Describe your existing data format(s).\n",
    "* Provide clear human- and machine- readable documentation.\n",
    "* Validate data, i.e., automated testing, ensuring quality of client submitted data."
   ]
  },
  {
   "cell_type": "markdown",
   "metadata": {},
   "source": [
    "### 3.1 \n",
    "Provide an JSON Schema which will validate the following document.\n",
    "\n",
    "```json\n",
    "{\n",
    "  \"firstName\": \"John\",\n",
    "  \"lastName\": \"Doe\",\n",
    "  \"age\": 21\n",
    "}\n",
    "```"
   ]
  },
  {
   "cell_type": "markdown",
   "metadata": {},
   "source": [
    "### Solution\n",
    "A possible schema for the above document:\n",
    "\n",
    "```json\n",
    "{\n",
    "  \"$id\": \"https://example.com/person.schema.json\",\n",
    "  \"$schema\": \"http://json-schema.org/draft-07/schema#\",\n",
    "  \"title\": \"Person\",\n",
    "  \"type\": \"object\",\n",
    "  \"properties\": {\n",
    "    \"firstName\": {\n",
    "      \"type\": \"string\",\n",
    "      \"description\": \"The person's first name.\"\n",
    "    },\n",
    "    \"lastName\": {\n",
    "      \"type\": \"string\",\n",
    "      \"description\": \"The person's last name.\"\n",
    "    },\n",
    "    \"age\": {\n",
    "      \"description\": \"Age in years which must be equal to or greater than zero.\",\n",
    "      \"type\": \"integer\",\n",
    "      \"minimum\": 0\n",
    "    }\n",
    "  }\n",
    "}\n",
    "```"
   ]
  },
  {
   "cell_type": "markdown",
   "metadata": {},
   "source": [
    "### 3.2\n",
    "Provide an JSON Schema which will validate the following document.\n",
    "The JSON Schema has to check for the following properties:\n",
    "\n",
    "\n",
    "*   The price of a product has to be strictly positive.\n",
    "*   Tags are describing the product and necessary for a proper product description. We need at least one tag per product and each tag should be unique.\n",
    "*   The \"productId\", \"productName\" and the \"price\" should always be contained in a valid JSON document.\n",
    "\n",
    "\n",
    "\n",
    "```json\n",
    "  {\n",
    "    \"productId\": 1,\n",
    "    \"productName\": \"An ice sculpture\",\n",
    "    \"price\": 12.50,\n",
    "    \"tags\": [ \"cold\", \"ice\" ],\n",
    "    \"dimensions\": {\n",
    "      \"length\": 7.0,\n",
    "      \"width\": 12.0,\n",
    "      \"height\": 9.5\n",
    "    }\n",
    "  }\n",
    "```"
   ]
  },
  {
   "cell_type": "markdown",
   "metadata": {},
   "source": [
    "### Solution \n",
    "A possible schema for the above document:\n",
    "\n",
    "```json\n",
    "{\n",
    "  \"$schema\":\"http://json-schema.org/draft-07/schema#\",\n",
    "  \"$id\": \"https://example.com/product.schema.json\",\n",
    "  \"title\": \"Product\",\n",
    "  \"description\": \"A product from Acme's catalog\",\n",
    "  \"type\": \"object\",\n",
    "  \"properties\": {\n",
    "    \"productId\": {\n",
    "      \"description\": \"The unique identifier for a product\",\n",
    "      \"type\": \"integer\"\n",
    "    },\n",
    "    \"productName\": {\n",
    "      \"description\": \"Name of the product\",\n",
    "      \"type\": \"string\"\n",
    "    },\n",
    "    \"price\": {\n",
    "      \"description\": \"The price of the product\",\n",
    "      \"type\": \"number\",\n",
    "      \"exclusiveMinimum\": 0\n",
    "    },\n",
    "    \"tags\": {\n",
    "      \"description\": \"Tags for the product\",\n",
    "      \"type\": \"array\",\n",
    "      \"items\": {\n",
    "        \"type\": \"string\"\n",
    "      },\n",
    "      \"minItems\": 1,\n",
    "      \"uniqueItems\": true\n",
    "    },\n",
    "    \"dimensions\": {\n",
    "      \"type\": \"object\",\n",
    "      \"properties\": {\n",
    "        \"length\": {\n",
    "          \"type\": \"number\"\n",
    "        },\n",
    "        \"width\": {\n",
    "          \"type\": \"number\"\n",
    "        },\n",
    "        \"height\": {\n",
    "          \"type\": \"number\"\n",
    "        }\n",
    "      },\n",
    "      \"required\": [ \"length\", \"width\", \"height\" ]\n",
    "    }\n",
    "  },\n",
    "  \"required\": [ \"productId\", \"productName\", \"price\" ]\n",
    "}\n",
    "```"
   ]
  },
  {
   "cell_type": "markdown",
   "metadata": {},
   "source": [
    "## 4. JSound"
   ]
  },
  {
   "cell_type": "markdown",
   "metadata": {},
   "source": [
    "[JSound](http://www.jsound-spec.org/) is a vocabulary that allows you to validate JSON documents. It employs a very simple and intuitive JSON-like syntax."
   ]
  },
  {
   "cell_type": "markdown",
   "metadata": {},
   "source": [
    "### 4.1 \n",
    "Repeat the exercise in 3.1, but now instead produce a JSound schema that will validate the following document:\n",
    "\n",
    "```json\n",
    "{\n",
    "  \"firstName\": \"John\",\n",
    "  \"lastName\": \"Doe\",\n",
    "  \"age\": 21\n",
    "}\n",
    "```"
   ]
  },
  {
   "cell_type": "markdown",
   "metadata": {},
   "source": [
    "### Solution\n",
    "The following JSound schema is a possible solution to the above question:\n",
    "\n",
    "```json\n",
    "{\n",
    "  \"firstName\": \"string\",\n",
    "  \"lastName\": \"string\",\n",
    "  \"age\": \"integer\"\n",
    "}\n",
    "```"
   ]
  },
  {
   "cell_type": "markdown",
   "metadata": {},
   "source": [
    "### 4.2 \n",
    "Build a valid JSON document based on the following JSound schema. \n",
    "\n",
    "```json\n",
    "{\n",
    "  \"id\": \"integer\",\n",
    "  \"who\": [{\n",
    "    \"name\": \"string\",\n",
    "    \"type\": \"string\",\n",
    "    \"preferred\": \"boolean\"\n",
    "  }],\n",
    "  \"year_of_birth\": \"integer\",\n",
    "  \"living\": \"boolean\"\n",
    "}\n",
    "```"
   ]
  },
  {
   "cell_type": "markdown",
   "metadata": {},
   "source": [
    "### Solution\n",
    "```json\n",
    " {\n",
    "  \"id\": \"100\",\n",
    "  \"who\": [{\n",
    "    \"name\": \"Albert\",\n",
    "    \"type\": \"first\",\n",
    "    \"preferred\": true\n",
    "  },\n",
    "  {\n",
    "    \"name\": \"Einstein\",\n",
    "    \"type\": \"last\",\n",
    "    \"preferred\": false\n",
    "  }],\n",
    "  \"year_of_birth\": 1879,\n",
    "  \"living\": false\n",
    "}\n",
    "```"
   ]
  },
  {
   "cell_type": "markdown",
   "metadata": {},
   "source": [
    "## 5. Creating Parquet documents using RumbleDB and JSound\n",
    "In this exercise, we will be writing a JSONiq query which validates a document using a JSound schema to create a user defined type, which we can then query! Then, we will output it in the [Parquet](https://parquet.apache.org/) file format. "
   ]
  },
  {
   "cell_type": "markdown",
   "metadata": {},
   "source": [
    "We recommend you use Exam Docker. \n",
    "\n",
    "You can download the exam docker from Moodle: https://polybox.ethz.ch/index.php/s/4UnNQ72X3thn1bU, then use http://localhost:8888/ to access the jupyter and put those corresponding files inside the folder ./exam_docker/notebooks.\n",
    "\n",
    "To get started, you first need to execute the cell below to activate the RumbleDB magic (you do not need to understand what it does, this is just initialization Python code)."
   ]
  },
  {
   "cell_type": "code",
   "execution_count": 2,
   "metadata": {},
   "outputs": [
    {
     "name": "stdout",
     "output_type": "stream",
     "text": [
      "Requirement already satisfied: rumbledb in /usr/local/lib/python3.12/site-packages (1.17.3)\n",
      "Requirement already satisfied: requests in /usr/local/lib/python3.12/site-packages (from rumbledb) (2.32.3)\n",
      "Requirement already satisfied: jupyter in /usr/local/lib/python3.12/site-packages (from rumbledb) (1.1.1)\n",
      "Requirement already satisfied: notebook in /usr/local/lib/python3.12/site-packages (from jupyter->rumbledb) (7.3.2)\n",
      "Requirement already satisfied: jupyter-console in /usr/local/lib/python3.12/site-packages (from jupyter->rumbledb) (6.6.3)\n",
      "Requirement already satisfied: nbconvert in /usr/local/lib/python3.12/site-packages (from jupyter->rumbledb) (7.16.6)\n",
      "Requirement already satisfied: ipykernel in /usr/local/lib/python3.12/site-packages (from jupyter->rumbledb) (6.29.5)\n",
      "Requirement already satisfied: ipywidgets in /usr/local/lib/python3.12/site-packages (from jupyter->rumbledb) (8.1.5)\n",
      "Requirement already satisfied: jupyterlab in /usr/local/lib/python3.12/site-packages (from jupyter->rumbledb) (4.3.5)\n",
      "Requirement already satisfied: charset-normalizer<4,>=2 in /usr/local/lib/python3.12/site-packages (from requests->rumbledb) (3.4.1)\n",
      "Requirement already satisfied: idna<4,>=2.5 in /usr/local/lib/python3.12/site-packages (from requests->rumbledb) (3.10)\n",
      "Requirement already satisfied: urllib3<3,>=1.21.1 in /usr/local/lib/python3.12/site-packages (from requests->rumbledb) (2.3.0)\n",
      "Requirement already satisfied: certifi>=2017.4.17 in /usr/local/lib/python3.12/site-packages (from requests->rumbledb) (2025.1.31)\n",
      "Requirement already satisfied: comm>=0.1.1 in /usr/local/lib/python3.12/site-packages (from ipykernel->jupyter->rumbledb) (0.2.2)\n",
      "Requirement already satisfied: debugpy>=1.6.5 in /usr/local/lib/python3.12/site-packages (from ipykernel->jupyter->rumbledb) (1.8.12)\n",
      "Requirement already satisfied: ipython>=7.23.1 in /usr/local/lib/python3.12/site-packages (from ipykernel->jupyter->rumbledb) (8.32.0)\n",
      "Requirement already satisfied: jupyter-client>=6.1.12 in /usr/local/lib/python3.12/site-packages (from ipykernel->jupyter->rumbledb) (8.6.3)\n",
      "Requirement already satisfied: jupyter-core!=5.0.*,>=4.12 in /usr/local/lib/python3.12/site-packages (from ipykernel->jupyter->rumbledb) (5.7.2)\n",
      "Requirement already satisfied: matplotlib-inline>=0.1 in /usr/local/lib/python3.12/site-packages (from ipykernel->jupyter->rumbledb) (0.1.7)\n",
      "Requirement already satisfied: nest-asyncio in /usr/local/lib/python3.12/site-packages (from ipykernel->jupyter->rumbledb) (1.6.0)\n",
      "Requirement already satisfied: packaging in /usr/local/lib/python3.12/site-packages (from ipykernel->jupyter->rumbledb) (24.2)\n",
      "Requirement already satisfied: psutil in /usr/local/lib/python3.12/site-packages (from ipykernel->jupyter->rumbledb) (7.0.0)\n",
      "Requirement already satisfied: pyzmq>=24 in /usr/local/lib/python3.12/site-packages (from ipykernel->jupyter->rumbledb) (26.2.1)\n",
      "Requirement already satisfied: tornado>=6.1 in /usr/local/lib/python3.12/site-packages (from ipykernel->jupyter->rumbledb) (6.4.2)\n",
      "Requirement already satisfied: traitlets>=5.4.0 in /usr/local/lib/python3.12/site-packages (from ipykernel->jupyter->rumbledb) (5.14.3)\n",
      "Requirement already satisfied: widgetsnbextension~=4.0.12 in /usr/local/lib/python3.12/site-packages (from ipywidgets->jupyter->rumbledb) (4.0.13)\n",
      "Requirement already satisfied: jupyterlab-widgets~=3.0.12 in /usr/local/lib/python3.12/site-packages (from ipywidgets->jupyter->rumbledb) (3.0.13)\n",
      "Requirement already satisfied: prompt-toolkit>=3.0.30 in /usr/local/lib/python3.12/site-packages (from jupyter-console->jupyter->rumbledb) (3.0.50)\n",
      "Requirement already satisfied: pygments in /usr/local/lib/python3.12/site-packages (from jupyter-console->jupyter->rumbledb) (2.19.1)\n",
      "Requirement already satisfied: async-lru>=1.0.0 in /usr/local/lib/python3.12/site-packages (from jupyterlab->jupyter->rumbledb) (2.0.4)\n",
      "Requirement already satisfied: httpx>=0.25.0 in /usr/local/lib/python3.12/site-packages (from jupyterlab->jupyter->rumbledb) (0.28.1)\n",
      "Requirement already satisfied: jinja2>=3.0.3 in /usr/local/lib/python3.12/site-packages (from jupyterlab->jupyter->rumbledb) (3.1.5)\n",
      "Requirement already satisfied: jupyter-lsp>=2.0.0 in /usr/local/lib/python3.12/site-packages (from jupyterlab->jupyter->rumbledb) (2.2.5)\n",
      "Requirement already satisfied: jupyter-server<3,>=2.4.0 in /usr/local/lib/python3.12/site-packages (from jupyterlab->jupyter->rumbledb) (2.15.0)\n",
      "Requirement already satisfied: jupyterlab-server<3,>=2.27.1 in /usr/local/lib/python3.12/site-packages (from jupyterlab->jupyter->rumbledb) (2.27.3)\n",
      "Requirement already satisfied: notebook-shim>=0.2 in /usr/local/lib/python3.12/site-packages (from jupyterlab->jupyter->rumbledb) (0.2.4)\n",
      "Requirement already satisfied: setuptools>=40.8.0 in /usr/local/lib/python3.12/site-packages (from jupyterlab->jupyter->rumbledb) (72.1.0)\n",
      "Requirement already satisfied: beautifulsoup4 in /usr/local/lib/python3.12/site-packages (from nbconvert->jupyter->rumbledb) (4.13.3)\n",
      "Requirement already satisfied: bleach!=5.0.0 in /usr/local/lib/python3.12/site-packages (from bleach[css]!=5.0.0->nbconvert->jupyter->rumbledb) (6.2.0)\n",
      "Requirement already satisfied: defusedxml in /usr/local/lib/python3.12/site-packages (from nbconvert->jupyter->rumbledb) (0.7.1)\n",
      "Requirement already satisfied: jupyterlab-pygments in /usr/local/lib/python3.12/site-packages (from nbconvert->jupyter->rumbledb) (0.3.0)\n",
      "Requirement already satisfied: markupsafe>=2.0 in /usr/local/lib/python3.12/site-packages (from nbconvert->jupyter->rumbledb) (3.0.2)\n",
      "Requirement already satisfied: mistune<4,>=2.0.3 in /usr/local/lib/python3.12/site-packages (from nbconvert->jupyter->rumbledb) (3.1.1)\n",
      "Requirement already satisfied: nbclient>=0.5.0 in /usr/local/lib/python3.12/site-packages (from nbconvert->jupyter->rumbledb) (0.10.2)\n",
      "Requirement already satisfied: nbformat>=5.7 in /usr/local/lib/python3.12/site-packages (from nbconvert->jupyter->rumbledb) (5.10.4)\n",
      "Requirement already satisfied: pandocfilters>=1.4.1 in /usr/local/lib/python3.12/site-packages (from nbconvert->jupyter->rumbledb) (1.5.1)\n",
      "Requirement already satisfied: webencodings in /usr/local/lib/python3.12/site-packages (from bleach!=5.0.0->bleach[css]!=5.0.0->nbconvert->jupyter->rumbledb) (0.5.1)\n",
      "Requirement already satisfied: tinycss2<1.5,>=1.1.0 in /usr/local/lib/python3.12/site-packages (from bleach[css]!=5.0.0->nbconvert->jupyter->rumbledb) (1.4.0)\n",
      "Requirement already satisfied: anyio in /usr/local/lib/python3.12/site-packages (from httpx>=0.25.0->jupyterlab->jupyter->rumbledb) (4.8.0)\n",
      "Requirement already satisfied: httpcore==1.* in /usr/local/lib/python3.12/site-packages (from httpx>=0.25.0->jupyterlab->jupyter->rumbledb) (1.0.7)\n",
      "Requirement already satisfied: h11<0.15,>=0.13 in /usr/local/lib/python3.12/site-packages (from httpcore==1.*->httpx>=0.25.0->jupyterlab->jupyter->rumbledb) (0.14.0)\n",
      "Requirement already satisfied: decorator in /usr/local/lib/python3.12/site-packages (from ipython>=7.23.1->ipykernel->jupyter->rumbledb) (5.1.1)\n",
      "Requirement already satisfied: jedi>=0.16 in /usr/local/lib/python3.12/site-packages (from ipython>=7.23.1->ipykernel->jupyter->rumbledb) (0.19.2)\n",
      "Requirement already satisfied: pexpect>4.3 in /usr/local/lib/python3.12/site-packages (from ipython>=7.23.1->ipykernel->jupyter->rumbledb) (4.9.0)\n",
      "Requirement already satisfied: stack_data in /usr/local/lib/python3.12/site-packages (from ipython>=7.23.1->ipykernel->jupyter->rumbledb) (0.6.3)\n",
      "Requirement already satisfied: python-dateutil>=2.8.2 in /usr/local/lib/python3.12/site-packages (from jupyter-client>=6.1.12->ipykernel->jupyter->rumbledb) (2.9.0.post0)\n",
      "Requirement already satisfied: platformdirs>=2.5 in /usr/local/lib/python3.12/site-packages (from jupyter-core!=5.0.*,>=4.12->ipykernel->jupyter->rumbledb) (4.3.6)\n",
      "Requirement already satisfied: argon2-cffi>=21.1 in /usr/local/lib/python3.12/site-packages (from jupyter-server<3,>=2.4.0->jupyterlab->jupyter->rumbledb) (23.1.0)\n",
      "Requirement already satisfied: jupyter-events>=0.11.0 in /usr/local/lib/python3.12/site-packages (from jupyter-server<3,>=2.4.0->jupyterlab->jupyter->rumbledb) (0.12.0)\n",
      "Requirement already satisfied: jupyter-server-terminals>=0.4.4 in /usr/local/lib/python3.12/site-packages (from jupyter-server<3,>=2.4.0->jupyterlab->jupyter->rumbledb) (0.5.3)\n",
      "Requirement already satisfied: overrides>=5.0 in /usr/local/lib/python3.12/site-packages (from jupyter-server<3,>=2.4.0->jupyterlab->jupyter->rumbledb) (7.7.0)\n",
      "Requirement already satisfied: prometheus-client>=0.9 in /usr/local/lib/python3.12/site-packages (from jupyter-server<3,>=2.4.0->jupyterlab->jupyter->rumbledb) (0.21.1)\n",
      "Requirement already satisfied: send2trash>=1.8.2 in /usr/local/lib/python3.12/site-packages (from jupyter-server<3,>=2.4.0->jupyterlab->jupyter->rumbledb) (1.8.3)\n",
      "Requirement already satisfied: terminado>=0.8.3 in /usr/local/lib/python3.12/site-packages (from jupyter-server<3,>=2.4.0->jupyterlab->jupyter->rumbledb) (0.18.1)\n",
      "Requirement already satisfied: websocket-client>=1.7 in /usr/local/lib/python3.12/site-packages (from jupyter-server<3,>=2.4.0->jupyterlab->jupyter->rumbledb) (1.8.0)\n",
      "Requirement already satisfied: babel>=2.10 in /usr/local/lib/python3.12/site-packages (from jupyterlab-server<3,>=2.27.1->jupyterlab->jupyter->rumbledb) (2.17.0)\n",
      "Requirement already satisfied: json5>=0.9.0 in /usr/local/lib/python3.12/site-packages (from jupyterlab-server<3,>=2.27.1->jupyterlab->jupyter->rumbledb) (0.10.0)\n",
      "Requirement already satisfied: jsonschema>=4.18.0 in /usr/local/lib/python3.12/site-packages (from jupyterlab-server<3,>=2.27.1->jupyterlab->jupyter->rumbledb) (4.23.0)\n",
      "Requirement already satisfied: fastjsonschema>=2.15 in /usr/local/lib/python3.12/site-packages (from nbformat>=5.7->nbconvert->jupyter->rumbledb) (2.21.1)\n",
      "Requirement already satisfied: wcwidth in /usr/local/lib/python3.12/site-packages (from prompt-toolkit>=3.0.30->jupyter-console->jupyter->rumbledb) (0.2.13)\n",
      "Requirement already satisfied: soupsieve>1.2 in /usr/local/lib/python3.12/site-packages (from beautifulsoup4->nbconvert->jupyter->rumbledb) (2.6)\n",
      "Requirement already satisfied: typing-extensions>=4.0.0 in /usr/local/lib/python3.12/site-packages (from beautifulsoup4->nbconvert->jupyter->rumbledb) (4.12.2)\n",
      "Requirement already satisfied: sniffio>=1.1 in /usr/local/lib/python3.12/site-packages (from anyio->httpx>=0.25.0->jupyterlab->jupyter->rumbledb) (1.3.1)\n",
      "Requirement already satisfied: argon2-cffi-bindings in /usr/local/lib/python3.12/site-packages (from argon2-cffi>=21.1->jupyter-server<3,>=2.4.0->jupyterlab->jupyter->rumbledb) (21.2.0)\n",
      "Requirement already satisfied: parso<0.9.0,>=0.8.4 in /usr/local/lib/python3.12/site-packages (from jedi>=0.16->ipython>=7.23.1->ipykernel->jupyter->rumbledb) (0.8.4)\n",
      "Requirement already satisfied: attrs>=22.2.0 in /usr/local/lib/python3.12/site-packages (from jsonschema>=4.18.0->jupyterlab-server<3,>=2.27.1->jupyterlab->jupyter->rumbledb) (25.1.0)\n",
      "Requirement already satisfied: jsonschema-specifications>=2023.03.6 in /usr/local/lib/python3.12/site-packages (from jsonschema>=4.18.0->jupyterlab-server<3,>=2.27.1->jupyterlab->jupyter->rumbledb) (2024.10.1)\n",
      "Requirement already satisfied: referencing>=0.28.4 in /usr/local/lib/python3.12/site-packages (from jsonschema>=4.18.0->jupyterlab-server<3,>=2.27.1->jupyterlab->jupyter->rumbledb) (0.36.2)\n",
      "Requirement already satisfied: rpds-py>=0.7.1 in /usr/local/lib/python3.12/site-packages (from jsonschema>=4.18.0->jupyterlab-server<3,>=2.27.1->jupyterlab->jupyter->rumbledb) (0.22.3)\n",
      "Requirement already satisfied: python-json-logger>=2.0.4 in /usr/local/lib/python3.12/site-packages (from jupyter-events>=0.11.0->jupyter-server<3,>=2.4.0->jupyterlab->jupyter->rumbledb) (3.2.1)\n",
      "Requirement already satisfied: pyyaml>=5.3 in /usr/local/lib/python3.12/site-packages (from jupyter-events>=0.11.0->jupyter-server<3,>=2.4.0->jupyterlab->jupyter->rumbledb) (6.0.2)\n",
      "Requirement already satisfied: rfc3339-validator in /usr/local/lib/python3.12/site-packages (from jupyter-events>=0.11.0->jupyter-server<3,>=2.4.0->jupyterlab->jupyter->rumbledb) (0.1.4)\n",
      "Requirement already satisfied: rfc3986-validator>=0.1.1 in /usr/local/lib/python3.12/site-packages (from jupyter-events>=0.11.0->jupyter-server<3,>=2.4.0->jupyterlab->jupyter->rumbledb) (0.1.1)\n",
      "Requirement already satisfied: ptyprocess>=0.5 in /usr/local/lib/python3.12/site-packages (from pexpect>4.3->ipython>=7.23.1->ipykernel->jupyter->rumbledb) (0.7.0)\n",
      "Requirement already satisfied: six>=1.5 in /usr/local/lib/python3.12/site-packages (from python-dateutil>=2.8.2->jupyter-client>=6.1.12->ipykernel->jupyter->rumbledb) (1.17.0)\n",
      "Requirement already satisfied: executing>=1.2.0 in /usr/local/lib/python3.12/site-packages (from stack_data->ipython>=7.23.1->ipykernel->jupyter->rumbledb) (2.2.0)\n",
      "Requirement already satisfied: asttokens>=2.1.0 in /usr/local/lib/python3.12/site-packages (from stack_data->ipython>=7.23.1->ipykernel->jupyter->rumbledb) (3.0.0)\n",
      "Requirement already satisfied: pure-eval in /usr/local/lib/python3.12/site-packages (from stack_data->ipython>=7.23.1->ipykernel->jupyter->rumbledb) (0.2.3)\n",
      "Requirement already satisfied: fqdn in /usr/local/lib/python3.12/site-packages (from jsonschema[format-nongpl]>=4.18.0->jupyter-events>=0.11.0->jupyter-server<3,>=2.4.0->jupyterlab->jupyter->rumbledb) (1.5.1)\n",
      "Requirement already satisfied: isoduration in /usr/local/lib/python3.12/site-packages (from jsonschema[format-nongpl]>=4.18.0->jupyter-events>=0.11.0->jupyter-server<3,>=2.4.0->jupyterlab->jupyter->rumbledb) (20.11.0)\n",
      "Requirement already satisfied: jsonpointer>1.13 in /usr/local/lib/python3.12/site-packages (from jsonschema[format-nongpl]>=4.18.0->jupyter-events>=0.11.0->jupyter-server<3,>=2.4.0->jupyterlab->jupyter->rumbledb) (3.0.0)\n",
      "Requirement already satisfied: uri-template in /usr/local/lib/python3.12/site-packages (from jsonschema[format-nongpl]>=4.18.0->jupyter-events>=0.11.0->jupyter-server<3,>=2.4.0->jupyterlab->jupyter->rumbledb) (1.3.0)\n",
      "Requirement already satisfied: webcolors>=24.6.0 in /usr/local/lib/python3.12/site-packages (from jsonschema[format-nongpl]>=4.18.0->jupyter-events>=0.11.0->jupyter-server<3,>=2.4.0->jupyterlab->jupyter->rumbledb) (24.11.1)\n",
      "Requirement already satisfied: cffi>=1.0.1 in /usr/local/lib/python3.12/site-packages (from argon2-cffi-bindings->argon2-cffi>=21.1->jupyter-server<3,>=2.4.0->jupyterlab->jupyter->rumbledb) (1.17.1)\n",
      "Requirement already satisfied: pycparser in /usr/local/lib/python3.12/site-packages (from cffi>=1.0.1->argon2-cffi-bindings->argon2-cffi>=21.1->jupyter-server<3,>=2.4.0->jupyterlab->jupyter->rumbledb) (2.22)\n",
      "Requirement already satisfied: arrow>=0.15.0 in /usr/local/lib/python3.12/site-packages (from isoduration->jsonschema[format-nongpl]>=4.18.0->jupyter-events>=0.11.0->jupyter-server<3,>=2.4.0->jupyterlab->jupyter->rumbledb) (1.3.0)\n",
      "Requirement already satisfied: types-python-dateutil>=2.8.10 in /usr/local/lib/python3.12/site-packages (from arrow>=0.15.0->isoduration->jsonschema[format-nongpl]>=4.18.0->jupyter-events>=0.11.0->jupyter-server<3,>=2.4.0->jupyterlab->jupyter->rumbledb) (2.9.0.20241206)\n",
      "\u001b[33mWARNING: Running pip as the 'root' user can result in broken permissions and conflicting behaviour with the system package manager, possibly rendering your system unusable. It is recommended to use a virtual environment instead: https://pip.pypa.io/warnings/venv. Use the --root-user-action option if you know what you are doing and want to suppress this warning.\u001b[0m\u001b[33m\n",
      "The rumbledb extension is already loaded. To reload it, use:\n",
      "  %reload_ext rumbledb\n",
      "env: RUMBLEDB_SERVER=http://rumble:9090/jsoniq\n"
     ]
    }
   ],
   "source": [
    "!pip install rumbledb\n",
    "%load_ext rumbledb\n",
    "%env RUMBLEDB_SERVER=http://rumble:9090/jsoniq"
   ]
  },
  {
   "cell_type": "markdown",
   "metadata": {},
   "source": [
    "\n",
    "It is recommended to use the port 9090 which normally does not get occupied by other applications.  \n",
    "\n",
    "To verify that the RumbleDB is up and running, you can go to `http://localhost:9090/public.html` in a web browser and you can type queries there.  \n",
    "<img src=\"https://polybox.ethz.ch/index.php/s/meX16DM6fG0Guck/download\" width=700>"
   ]
  },
  {
   "cell_type": "markdown",
   "metadata": {},
   "source": [
    "Now we are all set!"
   ]
  },
  {
   "cell_type": "markdown",
   "metadata": {
    "tags": []
   },
   "source": [
    "### 5.1 The Great Language Game\n",
    "The [Great Language Game](http://greatlanguagegame.com/) is a game in which you are given a voice clip to listen, and you are asked to identify the language in which the person was speaking. It is a multiple-choice question–you make your choice out of several alternatives.\n",
    "\n",
    "The following JSON document presents a user's attempt at answering a single question in the game: it contains the identifier of the voice clip, the choices presented to the player, and the player's response. Provide a JSound Schema which will validate this document.\n",
    "\n",
    "```json\n",
    "{\n",
    "  \"guess\": \"Norwegian\",\n",
    "  \"target\": \"Norwegian\", \n",
    "  \"country\": \"AU\",\n",
    "  \"choices\": [ \"Maori\", \"Mandarin\", \"Norwegian\", \"Tongan\" ], \n",
    "  \"sample\": \"48f9c924e0d98c959d8a6f1862b3ce9a\",\n",
    "  \"date\": \"2013-08-19\"\n",
    "}\n",
    "```\n",
    "\n",
    "You can refer to the documentation for [a list of types in JSound]((http://www.jsound-spec.org/publish/en-US/JSound/2.0/html-single/JSound/index.html#idm126).\n"
   ]
  },
  {
   "cell_type": "markdown",
   "metadata": {},
   "source": [
    "### Solution\n",
    "\n",
    "The following JSound schema is a possible solution to the above question:\n",
    "\n",
    "```json\n",
    "{\n",
    "    \"guess\": \"string\",\n",
    "    \"target\": \"string\",\n",
    "    \"country\": \"string\",\n",
    "    \"choices\": [ \"string\" ],\n",
    "    \"sample\": \"hexBinary\",\n",
    "    \"date\": \"date\"\n",
    "}\n",
    "```"
   ]
  },
  {
   "cell_type": "markdown",
   "metadata": {},
   "source": [
    "### 5.2 Validating our first documents\n",
    "Now let's validate the above document with the schema we just wrote:"
   ]
  },
  {
   "cell_type": "code",
   "execution_count": 2,
   "metadata": {
    "tags": []
   },
   "outputs": [],
   "source": [
    "%%jsoniq\n",
    "declare type local:attempt as {\n",
    "    // Replace this object with your JSound schema!\n",
    "    // Remember to keep the semi-colon :)\n",
    "};\n",
    "\n",
    "validate type local:attempt* {\n",
    "  {\n",
    "    \"guess\": \"Norwegian\",\n",
    "    \"target\": \"Norwegian\", \n",
    "    \"country\": \"AU\",\n",
    "    \"choices\": [ \"Maori\", \"Mandarin\", \"Norwegian\", \"Tongan\" ], \n",
    "    \"sample\": \"48f9c924e0d98c959d8a6f1862b3ce9a\",\n",
    "    \"date\": \"2013-08-19\"\n",
    "  }\n",
    "}"
   ]
  },
  {
   "cell_type": "markdown",
   "metadata": {},
   "source": [
    "Let's work with a larger version of the Great Language Game (Confusion) dataset, stored in the JSON format. The file should already be in the local directory as `confusion-100000.json`.\n",
    "\n",
    "We can query this file directly on the local disk using Rumble:"
   ]
  },
  {
   "cell_type": "code",
   "execution_count": null,
   "metadata": {},
   "outputs": [],
   "source": [
    "%%jsoniq\n",
    "count(json-file(\"confusion-100000.json\"))"
   ]
  },
  {
   "cell_type": "markdown",
   "metadata": {},
   "source": [
    "Now, let's use our schema to validate the first 10 attempts from the dataset:"
   ]
  },
  {
   "cell_type": "code",
   "execution_count": null,
   "metadata": {},
   "outputs": [],
   "source": [
    "%%jsoniq\n",
    "declare type local:attempt as {\n",
    "    // Replace this object with your JSound schema!\n",
    "    // Remember to keep the semi-colon :)\n",
    "};\n",
    "\n",
    "validate type local:attempt* {\n",
    "    json-file(\"confusion-100000.json\")[position() <= 10]\n",
    "}"
   ]
  },
  {
   "cell_type": "markdown",
   "metadata": {},
   "source": [
    "Although it seems like nothing is happening, our query is returning _typed_ objects instead of JSON strings. This means that we can interact with values like dates in more meaningful ways:"
   ]
  },
  {
   "cell_type": "code",
   "execution_count": null,
   "metadata": {},
   "outputs": [],
   "source": [
    "%%jsoniq\n",
    "declare type local:attempt as {\n",
    "    // Replace this object with your JSound schema!\n",
    "    // Remember to keep the semi-colon :)\n",
    "};\n",
    "\n",
    "for $i in validate type local:attempt* {\n",
    "    json-file(\"confusion-100000.json\")[position() <= 10]\n",
    "}\n",
    "let $date := $i.date\n",
    "return month-from-date($date)"
   ]
  },
  {
   "cell_type": "markdown",
   "metadata": {},
   "source": [
    "### Solution"
   ]
  },
  {
   "cell_type": "code",
   "execution_count": 3,
   "metadata": {
    "tags": []
   },
   "outputs": [],
   "source": [
    "%%jsoniq\n",
    "declare type local:attempt as {\n",
    "    \"guess\": \"string\",\n",
    "    \"target\": \"string\",\n",
    "    \"country\": \"string\",\n",
    "    \"choices\": [ \"string\" ],\n",
    "    \"sample\": \"hexBinary\",\n",
    "    \"date\": \"date\"\n",
    "};\n",
    "\n",
    "validate type local:attempt* {\n",
    "  {\n",
    "    \"guess\": \"Norwegian\",\n",
    "    \"target\": \"Norwegian\", \n",
    "    \"country\": \"AU\",\n",
    "    \"choices\": [ \"Maori\", \"Mandarin\", \"Norwegian\", \"Tongan\" ], \n",
    "    \"sample\": \"48f9c924e0d98c959d8a6f1862b3ce9a\",\n",
    "    \"date\": \"2013-08-19\"\n",
    "  }\n",
    "}"
   ]
  },
  {
   "cell_type": "code",
   "execution_count": 4,
   "metadata": {
    "tags": []
   },
   "outputs": [],
   "source": [
    "%%jsoniq\n",
    "declare type local:attempt as {\n",
    "    \"guess\": \"string\",\n",
    "    \"target\": \"string\",\n",
    "    \"country\": \"string\",\n",
    "    \"choices\": [ \"string\" ],\n",
    "    \"sample\": \"hexBinary\",\n",
    "    \"date\": \"date\"\n",
    "};\n",
    "\n",
    "validate type local:attempt* {\n",
    "    json-file(\"confusion-100000.json\", 10)[position() <= 10]\n",
    "}"
   ]
  },
  {
   "cell_type": "code",
   "execution_count": 5,
   "metadata": {
    "tags": []
   },
   "outputs": [],
   "source": [
    "%%jsoniq\n",
    "declare type local:attempt as {\n",
    "    \"guess\": \"string\",\n",
    "    \"target\": \"string\",\n",
    "    \"country\": \"string\",\n",
    "    \"choices\": [ \"string\" ],\n",
    "    \"sample\": \"hexBinary\",\n",
    "    \"date\": \"date\"\n",
    "};\n",
    "\n",
    "for $i in validate type local:attempt* {\n",
    "  json-file(\"confusion-100000.json\")[position() <= 10]\n",
    "}\n",
    "let $date := $i.date\n",
    "return month-from-date($date)"
   ]
  },
  {
   "cell_type": "markdown",
   "metadata": {},
   "source": [
    "### 5.3 From JSON to Parquet\n",
    "Now, let's try validate our entire dataset and output it as a Parquet file! We'll need the shell for this, so let's first create a JSONiq file containing our query. Modify and then copy the following query into a new file called `query.jq`.\n",
    "\n",
    "**Hint:** Date types in JSound can have timezones, but Parquet does not support dates with timezones at the moment. We should instead validate dates as strings for this exercise.\n",
    "\n",
    "```json\n",
    "declare type local:attempt as {\n",
    "    // Replace this object with your JSound schema!\n",
    "    // Remember to keep the semi-colon :)\n",
    "};\n",
    "\n",
    "validate type local:attempt* {\n",
    "    json-file(\"confusion-100000.json\", 10)\n",
    "}\n",
    "```"
   ]
  },
  {
   "cell_type": "markdown",
   "metadata": {},
   "source": [
    "Then, we can run the query through the shell, specifying the output format as Parquet. You can copy rumbledb-1.21.0-standalone.jar from exam_docker/rumble_docker to notebooks/ to run the following command."
   ]
  },
  {
   "cell_type": "code",
   "execution_count": null,
   "metadata": {
    "tags": []
   },
   "outputs": [],
   "source": [
    "!java -jar rumbledb-1.21.0-standalone.jar run query.jq -o result.out -f parquet -P 1"
   ]
  },
  {
   "cell_type": "markdown",
   "metadata": {},
   "source": [
    "Then let's change the file name to be more representative of its contents:"
   ]
  },
  {
   "cell_type": "code",
   "execution_count": null,
   "metadata": {
    "tags": []
   },
   "outputs": [],
   "source": [
    "!cp `find result.out/part-00000*` greatlanguagegame.parquet"
   ]
  },
  {
   "cell_type": "markdown",
   "metadata": {},
   "source": [
    "Where, if we compare the sizes of the JSONL and Parquet files..."
   ]
  },
  {
   "cell_type": "code",
   "execution_count": null,
   "metadata": {
    "tags": []
   },
   "outputs": [],
   "source": [
    "!ls -lh"
   ]
  },
  {
   "cell_type": "markdown",
   "metadata": {},
   "source": [
    "...we can see how much smaller the Parquet file is! Parquet is a column-oriented binary storage format with efficient data compression schemes.\n",
    "\n",
    "Intuitively, reducing the size of a file while maintaining fixed throughput means that we can also scan the file much faster! Keep this in mind next time you need to work with a huge JSON dataset!"
   ]
  },
  {
   "cell_type": "code",
   "execution_count": 6,
   "metadata": {
    "tags": []
   },
   "outputs": [],
   "source": [
    "%%jsoniq\n",
    "count(parquet-file(\"greatlanguagegame.parquet\"))"
   ]
  },
  {
   "cell_type": "markdown",
   "metadata": {},
   "source": [
    "### Solution"
   ]
  },
  {
   "cell_type": "code",
   "execution_count": null,
   "metadata": {
    "tags": []
   },
   "outputs": [],
   "source": [
    "%%jsoniq\n",
    "declare type local:attempt as {\n",
    "    \"guess\": \"string\",\n",
    "    \"target\": \"string\",\n",
    "    \"country\": \"string\",\n",
    "    \"choices\": [ \"string\" ],\n",
    "    \"sample\": \"hexBinary\",\n",
    "    \"date\": \"string\"\n",
    "};\n",
    "\n",
    "validate type local:attempt* {\n",
    "    json-file(\"confusion-100000.json\", 10)\n",
    "}"
   ]
  },
  {
   "cell_type": "markdown",
   "metadata": {},
   "source": [
    "### 5.4 Bigger data for a bigger benefit (optional)\n",
    "\n",
    "The dataset we used was just a subset of the full great language game dataset. When using a larger dataset, we will observe a much more noticeable decrease in time to scan the dataset in Parquet over JSON!\n",
    "\n",
    "We can download this dataset here:"
   ]
  },
  {
   "cell_type": "code",
   "execution_count": null,
   "metadata": {},
   "outputs": [],
   "source": [
    "!curl -O http://data.greatlanguagegame.com.s3.amazonaws.com/confusion-2014-03-02.tbz2"
   ]
  },
  {
   "cell_type": "markdown",
   "metadata": {},
   "source": [
    "Unzipping takes some time."
   ]
  },
  {
   "cell_type": "code",
   "execution_count": null,
   "metadata": {},
   "outputs": [],
   "source": [
    "!tar -jxv confusion-2014-03-02.tbz2"
   ]
  },
  {
   "cell_type": "markdown",
   "metadata": {},
   "source": [
    "Then, let's try repeat several steps from above with the new dataset:"
   ]
  },
  {
   "cell_type": "code",
   "execution_count": null,
   "metadata": {},
   "outputs": [],
   "source": [
    "%%jsoniq\n",
    "count(json-file(\"confusion-2014-03-02/confusion-2014-03-02.json\"))"
   ]
  },
  {
   "cell_type": "markdown",
   "metadata": {},
   "source": [
    "Including creating a new query file to point to the larger dataset:\n",
    "\n",
    "```json\n",
    "declare type local:my-type as {\n",
    "    // Replace this object with your JSound schema!\n",
    "    // Remember to keep the semi-colon :)\n",
    "};\n",
    "\n",
    "validate type local:my-type* {\n",
    "    json-file(\"confusion-2014-03-02/confusion-2014-03-02.json\", 10)\n",
    "}\n",
    "```\n",
    "\n",
    "which should be named `query-large.jq`."
   ]
  },
  {
   "cell_type": "code",
   "execution_count": null,
   "metadata": {},
   "outputs": [],
   "source": [
    "!java -jar rumbledb-1.21.0-standalone.jar run query-large.jq -o result-large.out -f parquet -P 1"
   ]
  },
  {
   "cell_type": "code",
   "execution_count": null,
   "metadata": {},
   "outputs": [],
   "source": [
    "!cp `find result-large.out/part-00000*` greatlanguagegame-large.parquet"
   ]
  },
  {
   "cell_type": "code",
   "execution_count": null,
   "metadata": {},
   "outputs": [],
   "source": [
    "%%jsoniq\n",
    "count(parquet-file(\"greatlanguagegame-large.parquet\"))"
   ]
  }
 ],
 "metadata": {
  "colab": {
   "name": "2021_Exercises_exercise06_Data_Models_Solutions.ipynb",
   "provenance": []
  },
  "kernelspec": {
   "display_name": "Python 3 (ipykernel)",
   "language": "python",
   "name": "python3"
  },
  "language_info": {
   "codemirror_mode": {
    "name": "ipython",
    "version": 3
   },
   "file_extension": ".py",
   "mimetype": "text/x-python",
   "name": "python",
   "nbconvert_exporter": "python",
   "pygments_lexer": "ipython3",
   "version": "3.12.4"
  }
 },
 "nbformat": 4,
 "nbformat_minor": 4
}

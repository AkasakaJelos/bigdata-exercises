{
 "cells": [
  {
   "cell_type": "markdown",
   "metadata": {
    "id": "Zo6cemRekqqm"
   },
   "source": [
    "# Big Data for Engineers – Moodle - Solutions\n",
    "\n",
    "# Spring 2025 -  Week 11 - Rumble\n",
    "\n"
   ]
  },
  {
   "cell_type": "markdown",
   "metadata": {
    "id": "FgAZKWlwkvrk"
   },
   "source": [
    "# Preparation for the moodle exercise in Spark\n"
   ]
  },
  {
   "cell_type": "markdown",
   "metadata": {},
   "source": [
    "## 1. Install Java and Download Rumble\n",
    "Please follow the instructions in Exercise11_Rumble_2025.ipynb."
   ]
  },
  {
   "cell_type": "markdown",
   "metadata": {},
   "source": [
    "## 2. Setup Working Environment\n",
    "1. Go to the folder `exam_docker` and execute `docker-compose up`\n",
    "2. To verify that the RumbleDB is up and running, you can go to http://localhost:9090/public.html in a web browser and you can type queries there."
   ]
  },
  {
   "cell_type": "code",
   "execution_count": null,
   "metadata": {},
   "outputs": [],
   "source": [
    "!pip install rumbledb\n",
    "%load_ext rumbledb\n",
    "%env RUMBLEDB_SERVER=http://rumble:9090/jsoniq"
   ]
  },
  {
   "cell_type": "markdown",
   "metadata": {},
   "source": [
    "Verify that jsoniq works."
   ]
  },
  {
   "cell_type": "code",
   "execution_count": null,
   "metadata": {
    "id": "C6lJq6kJ2HoB"
   },
   "outputs": [],
   "source": [
    "%%jsoniq\n",
    "1+1"
   ]
  },
  {
   "cell_type": "markdown",
   "metadata": {
    "cell_status": {
     "execute_time": {
      "duration": 44.55712890625,
      "end_time": 1557044256642.663
     }
    },
    "collapsed": true,
    "id": "YzHCdZ2Ld-kt",
    "jupyter": {
     "outputs_hidden": true
    }
   },
   "source": [
    "## 3. Prepare the Data: The Great Language Game\n",
    "\n",
    "This week you will be using again the [language confusion dataset](https://quietlyamused.org/blog/2014/03/12/language-confusion/). Make sure you use the correct dataset.\n",
    "### Please use the first 80k records of the \"confusion-100000.json\" dataset\n",
    "We can obtain the first 80k records like this: `subsequence(json-file(\"confusion-100000.json\", 10), 1, 80000)`"
   ]
  },
  {
   "cell_type": "code",
   "execution_count": null,
   "metadata": {},
   "outputs": [],
   "source": [
    "%%jsoniq\n",
    "count(subsequence(json-file(\"confusion-100000.json\", 10), 1, 80000))"
   ]
  },
  {
   "cell_type": "markdown",
   "metadata": {},
   "source": [
    "## 4. Instructions\n",
    "You should write __JSONiq__ queries only. \\\n",
    "For each quation, you have to submit the following results to the Moodle quiz:\n",
    "- The query you wrote\n",
    "- The query output __in the required format__ (which you will be graded on)\n",
    "\n",
    "The execution time of the queries will be reported by Rumble."
   ]
  },
  {
   "cell_type": "markdown",
   "metadata": {},
   "source": [
    "# Questions"
   ]
  },
  {
   "cell_type": "markdown",
   "metadata": {},
   "source": [
    "### **Assignment 1** - Guessed German Wrong\n",
    "How many games have the target language as **German** but the user’s guess was incorrect? (`guess ≠ target`)\n",
    "\n",
    "**Answer Type:** Number"
   ]
  },
  {
   "cell_type": "code",
   "execution_count": null,
   "metadata": {},
   "outputs": [],
   "source": [
    "%%jsoniq"
   ]
  },
  {
   "cell_type": "markdown",
   "metadata": {},
   "source": [
    "### **Assignment 2** - Games on First Day\n",
    "How many games were played on the **first day** in the dataset?\n",
    "\n",
    "**Answer Type:** Number"
   ]
  },
  {
   "cell_type": "code",
   "execution_count": null,
   "metadata": {},
   "outputs": [],
   "source": [
    "%%jsoniq"
   ]
  },
  {
   "cell_type": "markdown",
   "metadata": {},
   "source": [
    "### **Assignment 3** - Most Guessed Language\n",
    "What is the most frequently guessed language in the dataset?\n",
    "\n",
    "**Answer Type:** Short Answer (Language name)"
   ]
  },
  {
   "cell_type": "code",
   "execution_count": null,
   "metadata": {},
   "outputs": [],
   "source": [
    "%%jsoniq"
   ]
  },
  {
   "cell_type": "markdown",
   "metadata": {},
   "source": [
    "### **Assignment 4** - Third Most Incorrect Country\n",
    "\n",
    "Find the **top three countries** where users made the highest number of **incorrect guesses**. What is the **third country** in this list?\n",
    "\n",
    "**Answer Type:** Short Answer (Country code, e.g., US, FR)"
   ]
  },
  {
   "cell_type": "code",
   "execution_count": null,
   "metadata": {},
   "outputs": [],
   "source": [
    "%%jsoniq"
   ]
  },
  {
   "cell_type": "markdown",
   "metadata": {},
   "source": [
    "### **Assignment 5** - Guess Equals First Choice  \n",
    "\n",
    "How many games have the user’s guess equal to the **first** option in the choices array? \n",
    "\n",
    "**Answer Type:** Number"
   ]
  },
  {
   "cell_type": "code",
   "execution_count": null,
   "metadata": {},
   "outputs": [],
   "source": [
    "%%jsoniq"
   ]
  },
  {
   "cell_type": "markdown",
   "metadata": {},
   "source": [
    "### **Assignment 6** - Count Anomalous Games  \n",
    "  \n",
    "How many games have a target language that is **not** present in the list of choices?  \n",
    "\n",
    "**Answer Type:** Number"
   ]
  },
  {
   "cell_type": "code",
   "execution_count": null,
   "metadata": {},
   "outputs": [],
   "source": [
    "%%jsoniq"
   ]
  },
  {
   "cell_type": "markdown",
   "metadata": {},
   "source": [
    "### **Assignment 7** – Country with Highest Correct Ratio  \n",
    "\n",
    "Which country has the highest ratio of correct guesses (i.e. games where guess equals target)? Return just the country code.  \n",
    "\n",
    "**Answer Type:** Short Answer (Country code, e.g., US, FR)"
   ]
  },
  {
   "cell_type": "code",
   "execution_count": null,
   "metadata": {},
   "outputs": [],
   "source": [
    "%%jsoniq"
   ]
  }
 ],
 "metadata": {
  "colab": {
   "collapsed_sections": [
    "Uy48JTprhrKW",
    "eELMD0pqhrKW",
    "3Pcf7FL7Aetl",
    "OG0xJS2KHEF3",
    "jQycXJuCHHJW",
    "3ivTnfw5HMZz",
    "sKmgYw_jHPZ3",
    "IAjnh_H2HUa1",
    "yVvQBpVxHWuz",
    "XW8fQM8WHYt7",
    "PE_9pQzhAOyo"
   ],
   "name": "Exercise12_Rumble_Solutions.ipynb",
   "provenance": [],
   "toc_visible": true
  },
  "kernelspec": {
   "display_name": "Python 3 (ipykernel)",
   "language": "python",
   "name": "python3"
  },
  "language_info": {
   "codemirror_mode": {
    "name": "ipython",
    "version": 3
   },
   "file_extension": ".py",
   "mimetype": "text/x-python",
   "name": "python",
   "nbconvert_exporter": "python",
   "pygments_lexer": "ipython3",
   "version": "3.12.4"
  },
  "toc": {
   "base_numbering": 1,
   "nav_menu": {},
   "number_sections": false,
   "sideBar": true,
   "skip_h1_title": false,
   "title_cell": "Table of Contents",
   "title_sidebar": "Contents",
   "toc_cell": false,
   "toc_position": {},
   "toc_section_display": true,
   "toc_window_display": false
  }
 },
 "nbformat": 4,
 "nbformat_minor": 4
}
